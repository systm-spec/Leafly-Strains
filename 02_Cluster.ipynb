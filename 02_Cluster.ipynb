{
 "cells": [
  {
   "cell_type": "code",
   "execution_count": null,
   "metadata": {},
   "outputs": [],
   "source": [
    "import pandas as pd"
   ]
  },
  {
   "cell_type": "markdown",
   "metadata": {},
   "source": [
    "Untersucht wird ein Dataset von Hugginface.co (Apache license 2.0)\n"
   ]
  },
  {
   "cell_type": "code",
   "execution_count": null,
   "metadata": {
    "slideshow": {
     "slide_type": "slide"
    }
   },
   "outputs": [
    {
     "data": {
      "text/html": [
       "<div>\n",
       "<style scoped>\n",
       "    .dataframe tbody tr th:only-of-type {\n",
       "        vertical-align: middle;\n",
       "    }\n",
       "\n",
       "    .dataframe tbody tr th {\n",
       "        vertical-align: top;\n",
       "    }\n",
       "\n",
       "    .dataframe thead th {\n",
       "        text-align: right;\n",
       "    }\n",
       "</style>\n",
       "<table border=\"1\" class=\"dataframe\">\n",
       "  <thead>\n",
       "    <tr style=\"text-align: right;\">\n",
       "      <th></th>\n",
       "      <th>averageRating</th>\n",
       "      <th>cannabinoid_cbc_percentile50</th>\n",
       "      <th>cannabinoid_cbd_percentile50</th>\n",
       "      <th>cannabinoid_cbg_percentile50</th>\n",
       "      <th>cannabinoid_thc_percentile50</th>\n",
       "      <th>cannabinoid_thcv_percentile50</th>\n",
       "      <th>category</th>\n",
       "      <th>children_slugs</th>\n",
       "      <th>conditionReviewCount</th>\n",
       "      <th>condition_addAdhd_score</th>\n",
       "      <th>...</th>\n",
       "      <th>terp_limonene_score</th>\n",
       "      <th>terp_linalool_score</th>\n",
       "      <th>terp_myrcene_score</th>\n",
       "      <th>terp_ocimene_score</th>\n",
       "      <th>terp_pinene_score</th>\n",
       "      <th>terp_terpinolene_score</th>\n",
       "      <th>topEffect</th>\n",
       "      <th>totalFollowers</th>\n",
       "      <th>traitsCountTotal</th>\n",
       "      <th>traitsSourceCountTotal</th>\n",
       "    </tr>\n",
       "    <tr>\n",
       "      <th>id</th>\n",
       "      <th></th>\n",
       "      <th></th>\n",
       "      <th></th>\n",
       "      <th></th>\n",
       "      <th></th>\n",
       "      <th></th>\n",
       "      <th></th>\n",
       "      <th></th>\n",
       "      <th></th>\n",
       "      <th></th>\n",
       "      <th></th>\n",
       "      <th></th>\n",
       "      <th></th>\n",
       "      <th></th>\n",
       "      <th></th>\n",
       "      <th></th>\n",
       "      <th></th>\n",
       "      <th></th>\n",
       "      <th></th>\n",
       "      <th></th>\n",
       "      <th></th>\n",
       "    </tr>\n",
       "  </thead>\n",
       "  <tbody>\n",
       "    <tr>\n",
       "      <th>1</th>\n",
       "      <td>4.060496</td>\n",
       "      <td>0.0</td>\n",
       "      <td>0.0</td>\n",
       "      <td>0.0</td>\n",
       "      <td>19.0</td>\n",
       "      <td>0.0</td>\n",
       "      <td>Hybrid</td>\n",
       "      <td>candy-cane,cherry-ak-47</td>\n",
       "      <td>2102</td>\n",
       "      <td>-0.107757</td>\n",
       "      <td>...</td>\n",
       "      <td>0.129213</td>\n",
       "      <td>0.049176</td>\n",
       "      <td>1.085450</td>\n",
       "      <td>0.026986</td>\n",
       "      <td>0.455796</td>\n",
       "      <td>0.022313</td>\n",
       "      <td>Talkative</td>\n",
       "      <td>65424</td>\n",
       "      <td>16374</td>\n",
       "      <td>2126</td>\n",
       "    </tr>\n",
       "    <tr>\n",
       "      <th>2</th>\n",
       "      <td>4.262460</td>\n",
       "      <td>0.0</td>\n",
       "      <td>0.0</td>\n",
       "      <td>1.0</td>\n",
       "      <td>18.0</td>\n",
       "      <td>0.0</td>\n",
       "      <td>Hybrid</td>\n",
       "      <td>sour-diesel,og-kush</td>\n",
       "      <td>1788</td>\n",
       "      <td>-0.051241</td>\n",
       "      <td>...</td>\n",
       "      <td>0.284038</td>\n",
       "      <td>0.048102</td>\n",
       "      <td>0.378439</td>\n",
       "      <td>0.007928</td>\n",
       "      <td>0.102327</td>\n",
       "      <td>0.019300</td>\n",
       "      <td>Euphoric</td>\n",
       "      <td>55848</td>\n",
       "      <td>14197</td>\n",
       "      <td>1805</td>\n",
       "    </tr>\n",
       "    <tr>\n",
       "      <th>3</th>\n",
       "      <td>4.103067</td>\n",
       "      <td>0.0</td>\n",
       "      <td>0.0</td>\n",
       "      <td>0.0</td>\n",
       "      <td>17.0</td>\n",
       "      <td>0.0</td>\n",
       "      <td>Indica</td>\n",
       "      <td>cluster-funk,purple-mr-nice</td>\n",
       "      <td>604</td>\n",
       "      <td>0.454331</td>\n",
       "      <td>...</td>\n",
       "      <td>0.316200</td>\n",
       "      <td>0.098200</td>\n",
       "      <td>0.336300</td>\n",
       "      <td>0.034400</td>\n",
       "      <td>0.099100</td>\n",
       "      <td>0.001000</td>\n",
       "      <td>Sleepy</td>\n",
       "      <td>12551</td>\n",
       "      <td>4869</td>\n",
       "      <td>606</td>\n",
       "    </tr>\n",
       "    <tr>\n",
       "      <th>6</th>\n",
       "      <td>4.355109</td>\n",
       "      <td>0.0</td>\n",
       "      <td>0.0</td>\n",
       "      <td>1.0</td>\n",
       "      <td>21.0</td>\n",
       "      <td>0.0</td>\n",
       "      <td>Sativa</td>\n",
       "      <td>super-lemon-haze,super-sour-diesel</td>\n",
       "      <td>1742</td>\n",
       "      <td>-0.017279</td>\n",
       "      <td>...</td>\n",
       "      <td>0.169750</td>\n",
       "      <td>0.062835</td>\n",
       "      <td>0.469370</td>\n",
       "      <td>0.010418</td>\n",
       "      <td>0.118218</td>\n",
       "      <td>0.018945</td>\n",
       "      <td>Energetic</td>\n",
       "      <td>49943</td>\n",
       "      <td>13765</td>\n",
       "      <td>1783</td>\n",
       "    </tr>\n",
       "    <tr>\n",
       "      <th>7</th>\n",
       "      <td>4.267677</td>\n",
       "      <td>0.0</td>\n",
       "      <td>0.0</td>\n",
       "      <td>1.0</td>\n",
       "      <td>19.0</td>\n",
       "      <td>0.0</td>\n",
       "      <td>Indica</td>\n",
       "      <td>jack-herer,mango-haze</td>\n",
       "      <td>150</td>\n",
       "      <td>-0.652642</td>\n",
       "      <td>...</td>\n",
       "      <td>0.111898</td>\n",
       "      <td>0.065269</td>\n",
       "      <td>0.199376</td>\n",
       "      <td>0.058726</td>\n",
       "      <td>0.382547</td>\n",
       "      <td>0.281058</td>\n",
       "      <td>Euphoric</td>\n",
       "      <td>6360</td>\n",
       "      <td>1284</td>\n",
       "      <td>153</td>\n",
       "    </tr>\n",
       "  </tbody>\n",
       "</table>\n",
       "<p>5 rows × 190 columns</p>\n",
       "</div>"
      ],
      "text/plain": [
       "    averageRating  cannabinoid_cbc_percentile50  cannabinoid_cbd_percentile50  \\\n",
       "id                                                                              \n",
       "1        4.060496                           0.0                           0.0   \n",
       "2        4.262460                           0.0                           0.0   \n",
       "3        4.103067                           0.0                           0.0   \n",
       "6        4.355109                           0.0                           0.0   \n",
       "7        4.267677                           0.0                           0.0   \n",
       "\n",
       "    cannabinoid_cbg_percentile50  cannabinoid_thc_percentile50  \\\n",
       "id                                                               \n",
       "1                            0.0                          19.0   \n",
       "2                            1.0                          18.0   \n",
       "3                            0.0                          17.0   \n",
       "6                            1.0                          21.0   \n",
       "7                            1.0                          19.0   \n",
       "\n",
       "    cannabinoid_thcv_percentile50 category  \\\n",
       "id                                           \n",
       "1                             0.0   Hybrid   \n",
       "2                             0.0   Hybrid   \n",
       "3                             0.0   Indica   \n",
       "6                             0.0   Sativa   \n",
       "7                             0.0   Indica   \n",
       "\n",
       "                        children_slugs  conditionReviewCount  \\\n",
       "id                                                             \n",
       "1              candy-cane,cherry-ak-47                  2102   \n",
       "2                  sour-diesel,og-kush                  1788   \n",
       "3          cluster-funk,purple-mr-nice                   604   \n",
       "6   super-lemon-haze,super-sour-diesel                  1742   \n",
       "7                jack-herer,mango-haze                   150   \n",
       "\n",
       "    condition_addAdhd_score  ...  terp_limonene_score  terp_linalool_score  \\\n",
       "id                           ...                                             \n",
       "1                 -0.107757  ...             0.129213             0.049176   \n",
       "2                 -0.051241  ...             0.284038             0.048102   \n",
       "3                  0.454331  ...             0.316200             0.098200   \n",
       "6                 -0.017279  ...             0.169750             0.062835   \n",
       "7                 -0.652642  ...             0.111898             0.065269   \n",
       "\n",
       "    terp_myrcene_score  terp_ocimene_score  terp_pinene_score  \\\n",
       "id                                                              \n",
       "1             1.085450            0.026986           0.455796   \n",
       "2             0.378439            0.007928           0.102327   \n",
       "3             0.336300            0.034400           0.099100   \n",
       "6             0.469370            0.010418           0.118218   \n",
       "7             0.199376            0.058726           0.382547   \n",
       "\n",
       "    terp_terpinolene_score  topEffect  totalFollowers  traitsCountTotal  \\\n",
       "id                                                                        \n",
       "1                 0.022313  Talkative           65424             16374   \n",
       "2                 0.019300   Euphoric           55848             14197   \n",
       "3                 0.001000     Sleepy           12551              4869   \n",
       "6                 0.018945  Energetic           49943             13765   \n",
       "7                 0.281058   Euphoric            6360              1284   \n",
       "\n",
       "    traitsSourceCountTotal  \n",
       "id                          \n",
       "1                     2126  \n",
       "2                     1805  \n",
       "3                      606  \n",
       "6                     1783  \n",
       "7                      153  \n",
       "\n",
       "[5 rows x 190 columns]"
      ]
     },
     "execution_count": 18,
     "metadata": {},
     "output_type": "execute_result"
    }
   ],
   "source": [
    "df = pd.read_csv(\"./csv/strains.csv\")\n",
    "df = df.set_index(\"id\").sort_values(\"id\")\n",
    "\n",
    "\n",
    "df.head()"
   ]
  },
  {
   "cell_type": "code",
   "execution_count": null,
   "metadata": {},
   "outputs": [],
   "source": [
    "df.shape"
   ]
  },
  {
   "cell_type": "code",
   "execution_count": null,
   "metadata": {},
   "outputs": [],
   "source": [
    "df.describe()"
   ]
  },
  {
   "cell_type": "code",
   "execution_count": null,
   "metadata": {},
   "outputs": [],
   "source": [
    "df.isnull().sum().sort_values(ascending=False).head(3)"
   ]
  },
  {
   "cell_type": "code",
   "execution_count": null,
   "metadata": {},
   "outputs": [],
   "source": [
    "df.nunique().sort_values()"
   ]
  },
  {
   "cell_type": "markdown",
   "metadata": {},
   "source": [
    "### Cols in Dataframes clustern.\n"
   ]
  },
  {
   "cell_type": "markdown",
   "metadata": {},
   "source": [
    "## 1. Chemisches Profil (Cannabinoide & Terpene)\n",
    "\n",
    "### a) Cannabinoide\n"
   ]
  },
  {
   "cell_type": "code",
   "execution_count": null,
   "metadata": {},
   "outputs": [],
   "source": [
    "# a) Cannabinoide\n",
    "df_cannabinoids = df[\n",
    "    [\n",
    "        \"name\",\n",
    "        \"cannabinoid_thc_percentile50\",\n",
    "        \"cannabinoid_cbd_percentile50\",\n",
    "        \"cannabinoid_cbg_percentile50\",\n",
    "        \"cannabinoid_thcv_percentile50\",\n",
    "        \"cannabinoid_cbc_percentile50\",\n",
    "    ]\n",
    "].rename(\n",
    "    columns={\n",
    "        \"cannabinoid_thc_percentile50\": \"thc_median\",\n",
    "        \"cannabinoid_cbd_percentile50\": \"cbd_median\",\n",
    "        \"cannabinoid_cbg_percentile50\": \"cbg_median\",\n",
    "        \"cannabinoid_thcv_percentile50\": \"thcv_median\",\n",
    "        \"cannabinoid_cbc_percentile50\": \"cbc_median\",\n",
    "    }\n",
    ")"
   ]
  },
  {
   "cell_type": "markdown",
   "metadata": {},
   "source": [
    "### b) Terpene\n"
   ]
  },
  {
   "cell_type": "code",
   "execution_count": null,
   "metadata": {},
   "outputs": [],
   "source": [
    "# b) Terpene\n",
    "df_terpenes = df[\n",
    "    [\n",
    "        \"name\",\n",
    "        \"terp_caryophyllene_score\",\n",
    "        \"terp_humulene_score\",\n",
    "        \"terp_limonene_score\",\n",
    "        \"terp_linalool_score\",\n",
    "        \"terp_myrcene_score\",\n",
    "        \"terp_ocimene_score\",\n",
    "        \"terp_pinene_score\",\n",
    "        \"terp_terpinolene_score\",\n",
    "    ]\n",
    "]"
   ]
  },
  {
   "cell_type": "markdown",
   "metadata": {},
   "source": [
    "### 2. Effekte (Wirkungsprofile)\n"
   ]
  },
  {
   "cell_type": "code",
   "execution_count": null,
   "metadata": {},
   "outputs": [],
   "source": [
    "df_effects = df[\n",
    "    [\n",
    "        \"name\",\n",
    "        \"effect_aroused_score\",\n",
    "        \"effect_creative_score\",\n",
    "        \"effect_energetic_score\",\n",
    "        \"effect_euphoric_score\",\n",
    "        \"effect_focused_score\",\n",
    "        \"effect_giggly_score\",\n",
    "        \"effect_happy_score\",\n",
    "        \"effect_hungry_score\",\n",
    "        \"effect_relaxed_score\",\n",
    "        \"effect_sleepy_score\",\n",
    "        \"effect_talkative_score\",\n",
    "        \"effect_tingly_score\",\n",
    "        \"effect_uplifted_score\",\n",
    "        \"energizeScore\",\n",
    "    ]\n",
    "]"
   ]
  },
  {
   "cell_type": "markdown",
   "metadata": {},
   "source": [
    "### 3. Flavors/Aromen\n"
   ]
  },
  {
   "cell_type": "code",
   "execution_count": null,
   "metadata": {},
   "outputs": [],
   "source": [
    "flavor_cols = [\n",
    "    col for col in df.columns if col.startswith(\"flavor_\") and col.endswith(\"_score\")\n",
    "]\n",
    "\n",
    "df_flavors = df[[\"name\"] + flavor_cols]"
   ]
  },
  {
   "cell_type": "markdown",
   "metadata": {},
   "source": [
    "### 4. Medizinische Bedingungen\n"
   ]
  },
  {
   "cell_type": "code",
   "execution_count": null,
   "metadata": {},
   "outputs": [],
   "source": [
    "condition_cols = [\n",
    "    col\n",
    "    for col in df.columns\n",
    "    if col.startswith(\"condition_\")\n",
    "    and (col.endswith(\"_score\") or col.endswith(\"_votes\"))\n",
    "]\n",
    "\n",
    "\n",
    "df_conditions = df[[\"name\"] + condition_cols]"
   ]
  },
  {
   "cell_type": "markdown",
   "metadata": {},
   "source": [
    "### 5. Symptome\n"
   ]
  },
  {
   "cell_type": "code",
   "execution_count": null,
   "metadata": {},
   "outputs": [],
   "source": [
    "symptom_cols = [\n",
    "    col\n",
    "    for col in df.columns\n",
    "    if col.startswith(\"symptom_\") and (col.endswith(\"_score\") or col.endswith(\"_votes\"))\n",
    "]\n",
    "\n",
    "\n",
    "df_symptoms = df[[\"name\"] + symptom_cols]"
   ]
  },
  {
   "cell_type": "markdown",
   "metadata": {},
   "source": [
    "### 6. Negative Effekte\n"
   ]
  },
  {
   "cell_type": "code",
   "execution_count": null,
   "metadata": {},
   "outputs": [],
   "source": [
    "negative_cols = [col for col in df.columns if col.startswith(\"negative_\")]\n",
    "df_negatives = df[[\"name\"] + negative_cols]"
   ]
  },
  {
   "cell_type": "markdown",
   "metadata": {},
   "source": [
    "### 7. Grow Infos\n"
   ]
  },
  {
   "cell_type": "code",
   "execution_count": null,
   "metadata": {},
   "outputs": [],
   "source": [
    "df_grow = df[\n",
    "    [\n",
    "        \"name\",\n",
    "        \"grow_averageYield\",\n",
    "        \"grow_difficulty\",\n",
    "        \"grow_floweringDays\",\n",
    "        \"grow_height\",\n",
    "    ]\n",
    "]"
   ]
  },
  {
   "cell_type": "markdown",
   "metadata": {},
   "source": [
    "### 8. Metadaten/Popularität\n"
   ]
  },
  {
   "cell_type": "code",
   "execution_count": null,
   "metadata": {},
   "outputs": [],
   "source": [
    "df_meta = df[\n",
    "    [\n",
    "        \"name\",\n",
    "        \"averageRating\",\n",
    "        \"reviewCount\",\n",
    "        \"totalFollowers\",\n",
    "        \"traitsCountTotal\",\n",
    "        \"traitsSourceCountTotal\",\n",
    "        \"category\",\n",
    "        \"subtitle\",\n",
    "        \"photoCount\",\n",
    "    ]\n",
    "]"
   ]
  },
  {
   "cell_type": "markdown",
   "metadata": {},
   "source": [
    "### 9. Eltern/Kinder-Slugs\n"
   ]
  },
  {
   "cell_type": "code",
   "execution_count": null,
   "metadata": {},
   "outputs": [],
   "source": [
    "df_slugs = df[[\"name\", \"parent_slugs\", \"children_slugs\"]]"
   ]
  },
  {
   "cell_type": "markdown",
   "metadata": {},
   "source": [
    "### 10. Basis-Infos\n"
   ]
  },
  {
   "cell_type": "code",
   "execution_count": null,
   "metadata": {},
   "outputs": [],
   "source": [
    "df_basic = df[\n",
    "    [\n",
    "        \"name\",\n",
    "        \"subtitle\",\n",
    "        \"cannabinoid_thc_percentile50\",\n",
    "        \"category\",\n",
    "        \"averageRating\",\n",
    "        \"topEffect\",\n",
    "        \"parent_slugs\",\n",
    "        \"children_slugs\",\n",
    "        \"descriptionPlain\",\n",
    "    ]\n",
    "].rename(\n",
    "    columns={\n",
    "        \"name\": \"strain\",\n",
    "        \"cannabinoid_thc_percentile50\": \"thc\",\n",
    "        \"parent_slugs\": \"parents\",\n",
    "        \"children_slugs\": \"children\",\n",
    "        \"descriptionPlain\": \"description\",\n",
    "    }\n",
    ")"
   ]
  },
  {
   "cell_type": "markdown",
   "metadata": {},
   "source": [
    "## Weiter in /cluster/\n",
    "\n",
    "1. Chemisches Profil (Cannabinoide & Terpene)\n",
    "   <br/>a) Cannabinoide\n",
    "   <br/>b) Terpene\n",
    "\n",
    "2. Effekte (Wirkungsprofile)\n",
    "3. Flavors/Aromen\n",
    "4. Medizinische Bedingungen -> Conditions\n",
    "5. Symptome\n",
    "6. Negative Effekte (Nebenwirkungen)\n",
    "7. Grow Infos (Anbau-Infos)\n",
    "8. Metadaten/Popularität\n",
    "9. Netzwerk (Eltern/Kinder-Slugs)\n",
    "10. Basis-Infos\n"
   ]
  }
 ],
 "metadata": {
  "kernelspec": {
   "display_name": "Python 3",
   "language": "python",
   "name": "python3"
  },
  "language_info": {
   "codemirror_mode": {
    "name": "ipython",
    "version": 3
   },
   "file_extension": ".py",
   "mimetype": "text/x-python",
   "name": "python",
   "nbconvert_exporter": "python",
   "pygments_lexer": "ipython3",
   "version": "3.13.1"
  }
 },
 "nbformat": 4,
 "nbformat_minor": 2
}
