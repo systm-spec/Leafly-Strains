{
 "cells": [
  {
   "cell_type": "code",
   "execution_count": null,
   "metadata": {},
   "outputs": [],
   "source": [
    "import pandas as pd"
   ]
  },
  {
   "cell_type": "markdown",
   "metadata": {},
   "source": [
    "Untersucht wird ein Dataset von Hugginface.co (Apache license 2.0)\n"
   ]
  },
  {
   "cell_type": "code",
   "execution_count": null,
   "metadata": {},
   "outputs": [],
   "source": [
    "df = pd.read_csv('./csv/strains.csv')\n",
    "df.head()"
   ]
  },
  {
   "cell_type": "code",
   "execution_count": null,
   "metadata": {},
   "outputs": [],
   "source": [
    "df.shape"
   ]
  },
  {
   "cell_type": "code",
   "execution_count": null,
   "metadata": {},
   "outputs": [],
   "source": [
    "df.describe()"
   ]
  },
  {
   "cell_type": "code",
   "execution_count": null,
   "metadata": {},
   "outputs": [],
   "source": [
    "df.isnull().sum().sort_values(ascending=False).head(3)"
   ]
  },
  {
   "cell_type": "code",
   "execution_count": null,
   "metadata": {},
   "outputs": [],
   "source": [
    "df.nunique().sort_values()"
   ]
  },
  {
   "cell_type": "markdown",
   "metadata": {},
   "source": [
    "### Cols in Dataframes clustern.\n"
   ]
  },
  {
   "cell_type": "markdown",
   "metadata": {},
   "source": [
    "## 1. Chemisches Profil (Cannabinoide & Terpene)\n",
    "\n",
    "### a) Cannabinoide\n"
   ]
  },
  {
   "cell_type": "code",
   "execution_count": null,
   "metadata": {},
   "outputs": [],
   "source": [
    "# a) Cannabinoide\n",
    "df_cannabinoids = df[\n",
    "    [\n",
    "        'id',\n",
    "        'name',\n",
    "        'cannabinoid_thc_percentile50',\n",
    "        'cannabinoid_cbd_percentile50',\n",
    "        'cannabinoid_cbg_percentile50',\n",
    "        'cannabinoid_thcv_percentile50',\n",
    "        'cannabinoid_cbc_percentile50',\n",
    "    ]\n",
    "].rename(\n",
    "    columns={'cannabinoid_thc_percentile50': 'thc_median','cannabinoid_cbd_percentile50':'cbd_median', 'cannabinoid_cbg_percentile50':'cbg_median', 'cannabinoid_thcv_percentile50':'thcv_median', 'cannabinoid_cbc_percentile50':'cbc_median'}).set_index('id')"
   ]
  },
  {
   "cell_type": "markdown",
   "metadata": {},
   "source": [
    "### b) Terpene\n"
   ]
  },
  {
   "cell_type": "code",
   "execution_count": null,
   "metadata": {},
   "outputs": [],
   "source": [
    "# b) Terpene\n",
    "df_terpenes = df[\n",
    "    [\n",
    "        'id',\n",
    "        'name',\n",
    "        'terp_caryophyllene_score',\n",
    "        'terp_humulene_score',\n",
    "        'terp_limonene_score',\n",
    "        'terp_linalool_score',\n",
    "        'terp_myrcene_score',\n",
    "        'terp_ocimene_score',\n",
    "        'terp_pinene_score',\n",
    "        'terp_terpinolene_score',\n",
    "    ]\n",
    "].set_index('id')"
   ]
  },
  {
   "cell_type": "markdown",
   "metadata": {},
   "source": [
    "### 2. Effekte (Wirkungsprofile)\n"
   ]
  },
  {
   "cell_type": "code",
   "execution_count": null,
   "metadata": {},
   "outputs": [],
   "source": [
    "df_effects = df[\n",
    "    [\n",
    "        'id',\n",
    "        'name',\n",
    "        'effect_aroused_score',\n",
    "        'effect_creative_score',\n",
    "        'effect_energetic_score',\n",
    "        'effect_euphoric_score',\n",
    "        'effect_focused_score',\n",
    "        'effect_giggly_score',\n",
    "        'effect_happy_score',\n",
    "        'effect_hungry_score',\n",
    "        'effect_relaxed_score',\n",
    "        'effect_sleepy_score',\n",
    "        'effect_talkative_score',\n",
    "        'effect_tingly_score',\n",
    "        'effect_uplifted_score',\n",
    "        'energizeScore'\n",
    "    ]\n",
    "].set_index('id')"
   ]
  },
  {
   "cell_type": "markdown",
   "metadata": {},
   "source": [
    "### 3. Flavors/Aromen\n"
   ]
  },
  {
   "cell_type": "code",
   "execution_count": null,
   "metadata": {},
   "outputs": [],
   "source": [
    "flavor_cols = [col for col in df.columns if col.startswith('flavor_') and col.endswith('_score')]\n",
    "df_flavors = df[['id', 'name'] + flavor_cols].set_index('id')"
   ]
  },
  {
   "cell_type": "markdown",
   "metadata": {},
   "source": [
    "### 4. Medizinische Bedingungen\n"
   ]
  },
  {
   "cell_type": "code",
   "execution_count": null,
   "metadata": {},
   "outputs": [],
   "source": [
    "condition_cols = [col for col in df.columns if col.startswith('condition_') and (col.endswith('_score') or col.endswith('_votes'))]\n",
    "df_conditions = df[['id', 'name'] + condition_cols].set_index('id')"
   ]
  },
  {
   "cell_type": "markdown",
   "metadata": {},
   "source": [
    "### 5. Symptome\n"
   ]
  },
  {
   "cell_type": "code",
   "execution_count": null,
   "metadata": {},
   "outputs": [],
   "source": [
    "symptom_cols = [col for col in df.columns if col.startswith('symptom_') and (col.endswith('_score') or col.endswith('_votes'))]\n",
    "df_symptoms = df[['id', 'name'] + symptom_cols].set_index('id')"
   ]
  },
  {
   "cell_type": "markdown",
   "metadata": {},
   "source": [
    "### 6. Negative Effekte\n"
   ]
  },
  {
   "cell_type": "code",
   "execution_count": null,
   "metadata": {},
   "outputs": [],
   "source": [
    "negative_cols = [col for col in df.columns if col.startswith('negative_')]\n",
    "df_negatives = df[['id', 'name'] + negative_cols].set_index('id')"
   ]
  },
  {
   "cell_type": "markdown",
   "metadata": {},
   "source": [
    "### 7. Grow Infos\n"
   ]
  },
  {
   "cell_type": "code",
   "execution_count": null,
   "metadata": {},
   "outputs": [],
   "source": [
    "df_grow = df[\n",
    "    [\n",
    "        'id',\n",
    "        'name',\n",
    "        'grow_averageYield',\n",
    "        'grow_difficulty',\n",
    "        'grow_floweringDays',\n",
    "        'grow_height',\n",
    "    ]\n",
    "].set_index('id')"
   ]
  },
  {
   "cell_type": "markdown",
   "metadata": {},
   "source": [
    "### 8. Metadaten/Popularität\n"
   ]
  },
  {
   "cell_type": "code",
   "execution_count": null,
   "metadata": {},
   "outputs": [],
   "source": [
    "df_meta = df[\n",
    "    [\n",
    "        'id',\n",
    "        'name',\n",
    "        'averageRating',\n",
    "        'reviewCount',\n",
    "        'totalFollowers',\n",
    "        'traitsCountTotal',\n",
    "        'traitsSourceCountTotal',\n",
    "        'category',\n",
    "        'subtitle',\n",
    "        'photoCount'\n",
    "    ]\n",
    "].set_index('id')"
   ]
  },
  {
   "cell_type": "markdown",
   "metadata": {},
   "source": [
    "### 9. Eltern/Kinder-Slugs\n"
   ]
  },
  {
   "cell_type": "code",
   "execution_count": null,
   "metadata": {},
   "outputs": [],
   "source": [
    "df_slugs = df[['id', 'parent_slugs', 'children_slugs']]"
   ]
  },
  {
   "cell_type": "markdown",
   "metadata": {},
   "source": [
    "### 10. Basis-Infos\n"
   ]
  },
  {
   "cell_type": "code",
   "execution_count": null,
   "metadata": {},
   "outputs": [],
   "source": [
    "df_basic = df[['id','name', 'subtitle', 'cannabinoid_thc_percentile50', 'category', 'averageRating' ,'topEffect','parent_slugs', 'children_slugs', 'descriptionPlain']].rename(\n",
    "    columns={'name': 'strain','cannabinoid_thc_percentile50': 'thc_median','parent_slugs':'parents', 'children_slugs':'children', 'descriptionPlain':'description'}\n",
    ").set_index('id')"
   ]
  }
 ],
 "metadata": {
  "kernelspec": {
   "display_name": "Python 3",
   "language": "python",
   "name": "python3"
  },
  "language_info": {
   "codemirror_mode": {
    "name": "ipython",
    "version": 3
   },
   "file_extension": ".py",
   "mimetype": "text/x-python",
   "name": "python",
   "nbconvert_exporter": "python",
   "pygments_lexer": "ipython3",
   "version": "3.13.1"
  }
 },
 "nbformat": 4,
 "nbformat_minor": 2
}
