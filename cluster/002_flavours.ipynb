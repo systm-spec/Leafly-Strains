{
 "cells": [
  {
   "cell_type": "code",
   "execution_count": 2,
   "metadata": {},
   "outputs": [],
   "source": [
    "import pandas as pd\n",
    "import seaborn as sns\n",
    "import matplotlib.pyplot as plt\n",
    "import plotly.express as px"
   ]
  },
  {
   "cell_type": "markdown",
   "metadata": {},
   "source": [
    "# 🍭 Cluster 003: Flavour Insights\n",
    "\n",
    "_Datenexploration und Analyse der Flavour-Profile aus dem Leafly Strain Dataset_\n",
    "\n",
    "---\n",
    "\n",
    "## Inhaltsverzeichnis\n",
    "\n",
    "1. [Setup & Overview](#setup--overview)\n",
    "2. [DataFrame Struktur](#dataframe-struktur)\n",
    "3. [Deskriptive Statistik](#deskriptive-statistik)\n",
    "4. [Visualisierung der Flavours](#visualisierung-der-flavours)\n",
    "5. [Weitere Analysen & Ideen](#weitere-analysen--ideen)\n",
    "6. [Fazit & To Dos](#fazit--to-dos)\n",
    "\n",
    "---\n",
    "\n",
    "> _Hinweis: Der DataFrame enthält bereits die wichtigsten Flavour-Scores pro Strain sowie den Strain-Namen und das durchschnittliche Rating._\n"
   ]
  },
  {
   "cell_type": "markdown",
   "metadata": {},
   "source": [
    "---\n",
    "## <a id=\"setup--overview\"></a>1. Setup & Overview\n",
    "\n",
    "- Dieses Notebook untersucht die Flavour-Scores verschiedener Strains auf Basis des Leafly-Datensatzes.\n",
    "- Für jeden Strain sind die wichtigsten Flavour-Merkmale als separate Spalten enthalten.\n",
    "---\n"
   ]
  },
  {
   "cell_type": "code",
   "execution_count": 3,
   "metadata": {},
   "outputs": [],
   "source": [
    "df = pd.read_csv(\"../csv/strains.csv\")\n",
    "df = df.set_index(\"id\").sort_values(\"id\")"
   ]
  },
  {
   "cell_type": "code",
   "execution_count": null,
   "metadata": {},
   "outputs": [],
   "source": [
    "flavor_cols = [\n",
    "    col for col in df.columns if col.startswith(\"flavor_\") and col.endswith(\"_score\")\n",
    "]\n",
    "df_flavors = df[[\"averageRating\", \"name\"] + flavor_cols]"
   ]
  },
  {
   "cell_type": "markdown",
   "metadata": {},
   "source": [
    "---\n",
    "## <a id=\"dataframe-struktur\"></a>2. DataFrame Struktur\n",
    "\n",
    "- Überblick über die Spalten und Beispiel-Datensätze (`df_flavors.head()`, `df_flavors.info()`).\n",
    "- Felder: name, averageRating, flavor_ammonia_score, flavor_apple_score, ..., flavor_woody_score.\n",
    "---\n"
   ]
  },
  {
   "cell_type": "code",
   "execution_count": 7,
   "metadata": {},
   "outputs": [
    {
     "data": {
      "text/html": [
       "<div>\n",
       "<style scoped>\n",
       "    .dataframe tbody tr th:only-of-type {\n",
       "        vertical-align: middle;\n",
       "    }\n",
       "\n",
       "    .dataframe tbody tr th {\n",
       "        vertical-align: top;\n",
       "    }\n",
       "\n",
       "    .dataframe thead th {\n",
       "        text-align: right;\n",
       "    }\n",
       "</style>\n",
       "<table border=\"1\" class=\"dataframe\">\n",
       "  <thead>\n",
       "    <tr style=\"text-align: right;\">\n",
       "      <th></th>\n",
       "      <th>name</th>\n",
       "      <th>averageRating</th>\n",
       "      <th>flavor_ammonia_score</th>\n",
       "      <th>flavor_apple_score</th>\n",
       "      <th>flavor_apricot_score</th>\n",
       "      <th>flavor_berry_score</th>\n",
       "      <th>flavor_blueCheese_score</th>\n",
       "      <th>flavor_blueberry_score</th>\n",
       "      <th>flavor_butter_score</th>\n",
       "      <th>flavor_cheese_score</th>\n",
       "      <th>...</th>\n",
       "      <th>flavor_strawberry_score</th>\n",
       "      <th>flavor_sweet_score</th>\n",
       "      <th>flavor_tar_score</th>\n",
       "      <th>flavor_tea_score</th>\n",
       "      <th>flavor_tobacco_score</th>\n",
       "      <th>flavor_treeFruit_score</th>\n",
       "      <th>flavor_tropical_score</th>\n",
       "      <th>flavor_vanilla_score</th>\n",
       "      <th>flavor_violet_score</th>\n",
       "      <th>flavor_woody_score</th>\n",
       "    </tr>\n",
       "    <tr>\n",
       "      <th>id</th>\n",
       "      <th></th>\n",
       "      <th></th>\n",
       "      <th></th>\n",
       "      <th></th>\n",
       "      <th></th>\n",
       "      <th></th>\n",
       "      <th></th>\n",
       "      <th></th>\n",
       "      <th></th>\n",
       "      <th></th>\n",
       "      <th></th>\n",
       "      <th></th>\n",
       "      <th></th>\n",
       "      <th></th>\n",
       "      <th></th>\n",
       "      <th></th>\n",
       "      <th></th>\n",
       "      <th></th>\n",
       "      <th></th>\n",
       "      <th></th>\n",
       "      <th></th>\n",
       "    </tr>\n",
       "  </thead>\n",
       "  <tbody>\n",
       "    <tr>\n",
       "      <th>1</th>\n",
       "      <td>AK-47</td>\n",
       "      <td>4.060496</td>\n",
       "      <td>-0.524449</td>\n",
       "      <td>-1.263211</td>\n",
       "      <td>-1.521205</td>\n",
       "      <td>-1.260940</td>\n",
       "      <td>-1.455552</td>\n",
       "      <td>-1.477364</td>\n",
       "      <td>-1.454589</td>\n",
       "      <td>-1.259149</td>\n",
       "      <td>...</td>\n",
       "      <td>-1.495604</td>\n",
       "      <td>-0.086950</td>\n",
       "      <td>0.299993</td>\n",
       "      <td>-0.269964</td>\n",
       "      <td>1.924542</td>\n",
       "      <td>-0.546600</td>\n",
       "      <td>-0.902390</td>\n",
       "      <td>-1.327380</td>\n",
       "      <td>-0.923616</td>\n",
       "      <td>1.565616</td>\n",
       "    </tr>\n",
       "    <tr>\n",
       "      <th>2</th>\n",
       "      <td>Chemdawg</td>\n",
       "      <td>4.262460</td>\n",
       "      <td>0.272779</td>\n",
       "      <td>-1.188178</td>\n",
       "      <td>-1.106155</td>\n",
       "      <td>-1.092478</td>\n",
       "      <td>-1.237233</td>\n",
       "      <td>-1.203048</td>\n",
       "      <td>-1.030617</td>\n",
       "      <td>-1.085952</td>\n",
       "      <td>...</td>\n",
       "      <td>-1.243357</td>\n",
       "      <td>-0.695649</td>\n",
       "      <td>0.052855</td>\n",
       "      <td>-0.640874</td>\n",
       "      <td>-0.168703</td>\n",
       "      <td>-0.890516</td>\n",
       "      <td>-1.038792</td>\n",
       "      <td>-1.186957</td>\n",
       "      <td>-1.250729</td>\n",
       "      <td>0.258957</td>\n",
       "    </tr>\n",
       "    <tr>\n",
       "      <th>3</th>\n",
       "      <td>Mr. Nice Guy</td>\n",
       "      <td>4.103067</td>\n",
       "      <td>-1.075217</td>\n",
       "      <td>-1.302872</td>\n",
       "      <td>-1.705689</td>\n",
       "      <td>-0.876851</td>\n",
       "      <td>-1.312388</td>\n",
       "      <td>-1.164363</td>\n",
       "      <td>-1.220014</td>\n",
       "      <td>-1.150885</td>\n",
       "      <td>...</td>\n",
       "      <td>-1.247961</td>\n",
       "      <td>0.820083</td>\n",
       "      <td>-0.121315</td>\n",
       "      <td>-0.224522</td>\n",
       "      <td>-0.498152</td>\n",
       "      <td>-0.223382</td>\n",
       "      <td>-0.860087</td>\n",
       "      <td>-1.302634</td>\n",
       "      <td>-0.766799</td>\n",
       "      <td>1.301704</td>\n",
       "    </tr>\n",
       "    <tr>\n",
       "      <th>6</th>\n",
       "      <td>Super Silver Haze</td>\n",
       "      <td>4.355109</td>\n",
       "      <td>0.459234</td>\n",
       "      <td>-1.175719</td>\n",
       "      <td>-0.923911</td>\n",
       "      <td>-1.241023</td>\n",
       "      <td>-1.344886</td>\n",
       "      <td>-1.430461</td>\n",
       "      <td>-0.911304</td>\n",
       "      <td>-1.039815</td>\n",
       "      <td>...</td>\n",
       "      <td>-1.452236</td>\n",
       "      <td>0.649875</td>\n",
       "      <td>-1.465384</td>\n",
       "      <td>-0.027229</td>\n",
       "      <td>-0.474655</td>\n",
       "      <td>-0.279417</td>\n",
       "      <td>-0.357794</td>\n",
       "      <td>-1.322126</td>\n",
       "      <td>-1.566659</td>\n",
       "      <td>0.325602</td>\n",
       "    </tr>\n",
       "    <tr>\n",
       "      <th>7</th>\n",
       "      <td>Northern Lights #5</td>\n",
       "      <td>4.267677</td>\n",
       "      <td>-0.851163</td>\n",
       "      <td>0.001281</td>\n",
       "      <td>0.979422</td>\n",
       "      <td>-0.809269</td>\n",
       "      <td>NaN</td>\n",
       "      <td>-0.675047</td>\n",
       "      <td>-1.021054</td>\n",
       "      <td>-1.012379</td>\n",
       "      <td>...</td>\n",
       "      <td>-0.894331</td>\n",
       "      <td>0.749584</td>\n",
       "      <td>-0.774828</td>\n",
       "      <td>0.213428</td>\n",
       "      <td>NaN</td>\n",
       "      <td>-0.665797</td>\n",
       "      <td>-0.745234</td>\n",
       "      <td>-1.223921</td>\n",
       "      <td>-1.684350</td>\n",
       "      <td>-0.120150</td>\n",
       "    </tr>\n",
       "  </tbody>\n",
       "</table>\n",
       "<p>5 rows × 49 columns</p>\n",
       "</div>"
      ],
      "text/plain": [
       "                  name  averageRating  flavor_ammonia_score  \\\n",
       "id                                                            \n",
       "1                AK-47       4.060496             -0.524449   \n",
       "2             Chemdawg       4.262460              0.272779   \n",
       "3         Mr. Nice Guy       4.103067             -1.075217   \n",
       "6    Super Silver Haze       4.355109              0.459234   \n",
       "7   Northern Lights #5       4.267677             -0.851163   \n",
       "\n",
       "    flavor_apple_score  flavor_apricot_score  flavor_berry_score  \\\n",
       "id                                                                 \n",
       "1            -1.263211             -1.521205           -1.260940   \n",
       "2            -1.188178             -1.106155           -1.092478   \n",
       "3            -1.302872             -1.705689           -0.876851   \n",
       "6            -1.175719             -0.923911           -1.241023   \n",
       "7             0.001281              0.979422           -0.809269   \n",
       "\n",
       "    flavor_blueCheese_score  flavor_blueberry_score  flavor_butter_score  \\\n",
       "id                                                                         \n",
       "1                 -1.455552               -1.477364            -1.454589   \n",
       "2                 -1.237233               -1.203048            -1.030617   \n",
       "3                 -1.312388               -1.164363            -1.220014   \n",
       "6                 -1.344886               -1.430461            -0.911304   \n",
       "7                       NaN               -0.675047            -1.021054   \n",
       "\n",
       "    flavor_cheese_score  ...  flavor_strawberry_score  flavor_sweet_score  \\\n",
       "id                       ...                                                \n",
       "1             -1.259149  ...                -1.495604           -0.086950   \n",
       "2             -1.085952  ...                -1.243357           -0.695649   \n",
       "3             -1.150885  ...                -1.247961            0.820083   \n",
       "6             -1.039815  ...                -1.452236            0.649875   \n",
       "7             -1.012379  ...                -0.894331            0.749584   \n",
       "\n",
       "    flavor_tar_score  flavor_tea_score  flavor_tobacco_score  \\\n",
       "id                                                             \n",
       "1           0.299993         -0.269964              1.924542   \n",
       "2           0.052855         -0.640874             -0.168703   \n",
       "3          -0.121315         -0.224522             -0.498152   \n",
       "6          -1.465384         -0.027229             -0.474655   \n",
       "7          -0.774828          0.213428                   NaN   \n",
       "\n",
       "    flavor_treeFruit_score  flavor_tropical_score  flavor_vanilla_score  \\\n",
       "id                                                                        \n",
       "1                -0.546600              -0.902390             -1.327380   \n",
       "2                -0.890516              -1.038792             -1.186957   \n",
       "3                -0.223382              -0.860087             -1.302634   \n",
       "6                -0.279417              -0.357794             -1.322126   \n",
       "7                -0.665797              -0.745234             -1.223921   \n",
       "\n",
       "    flavor_violet_score  flavor_woody_score  \n",
       "id                                           \n",
       "1             -0.923616            1.565616  \n",
       "2             -1.250729            0.258957  \n",
       "3             -0.766799            1.301704  \n",
       "6             -1.566659            0.325602  \n",
       "7             -1.684350           -0.120150  \n",
       "\n",
       "[5 rows x 49 columns]"
      ]
     },
     "execution_count": 7,
     "metadata": {},
     "output_type": "execute_result"
    }
   ],
   "source": [
    "df_flavors.head()"
   ]
  },
  {
   "cell_type": "code",
   "execution_count": 11,
   "metadata": {},
   "outputs": [
    {
     "name": "stdout",
     "output_type": "stream",
     "text": [
      "<class 'pandas.core.frame.DataFrame'>\n",
      "Index: 8492 entries, 1 to 518764\n",
      "Data columns (total 49 columns):\n",
      " #   Column                    Non-Null Count  Dtype  \n",
      "---  ------                    --------------  -----  \n",
      " 0   averageRating             8492 non-null   float64\n",
      " 1   name                      8492 non-null   object \n",
      " 2   flavor_ammonia_score      1789 non-null   float64\n",
      " 3   flavor_apple_score        1461 non-null   float64\n",
      " 4   flavor_apricot_score      1324 non-null   float64\n",
      " 5   flavor_berry_score        3679 non-null   float64\n",
      " 6   flavor_blueCheese_score   1004 non-null   float64\n",
      " 7   flavor_blueberry_score    2073 non-null   float64\n",
      " 8   flavor_butter_score       1769 non-null   float64\n",
      " 9   flavor_cheese_score       1734 non-null   float64\n",
      " 10  flavor_chemical_score     2641 non-null   float64\n",
      " 11  flavor_chestnut_score     1052 non-null   float64\n",
      " 12  flavor_citrus_score       4337 non-null   float64\n",
      " 13  flavor_coffee_score       1287 non-null   float64\n",
      " 14  flavor_diesel_score       3500 non-null   float64\n",
      " 15  flavor_earthy_score       5291 non-null   float64\n",
      " 16  flavor_flowery_score      3995 non-null   float64\n",
      " 17  flavor_grape_score        1813 non-null   float64\n",
      " 18  flavor_grapefruit_score   1673 non-null   float64\n",
      " 19  flavor_honey_score        1649 non-null   float64\n",
      " 20  flavor_lavender_score     1600 non-null   float64\n",
      " 21  flavor_lemon_score        2950 non-null   float64\n",
      " 22  flavor_lime_score         1728 non-null   float64\n",
      " 23  flavor_mango_score        1242 non-null   float64\n",
      " 24  flavor_menthol_score      1080 non-null   float64\n",
      " 25  flavor_mint_score         1697 non-null   float64\n",
      " 26  flavor_nutty_score        2116 non-null   float64\n",
      " 27  flavor_orange_score       1702 non-null   float64\n",
      " 28  flavor_peach_score        844 non-null    float64\n",
      " 29  flavor_pear_score         729 non-null    float64\n",
      " 30  flavor_pepper_score       2576 non-null   float64\n",
      " 31  flavor_pine_score         3648 non-null   float64\n",
      " 32  flavor_pineapple_score    1139 non-null   float64\n",
      " 33  flavor_plum_score         778 non-null    float64\n",
      " 34  flavor_pungent_score      3882 non-null   float64\n",
      " 35  flavor_rose_score         981 non-null    float64\n",
      " 36  flavor_sage_score         1676 non-null   float64\n",
      " 37  flavor_skunk_score        3165 non-null   float64\n",
      " 38  flavor_spicyHerbal_score  1639 non-null   float64\n",
      " 39  flavor_strawberry_score   1034 non-null   float64\n",
      " 40  flavor_sweet_score        4697 non-null   float64\n",
      " 41  flavor_tar_score          935 non-null    float64\n",
      " 42  flavor_tea_score          1664 non-null   float64\n",
      " 43  flavor_tobacco_score      1124 non-null   float64\n",
      " 44  flavor_treeFruit_score    1980 non-null   float64\n",
      " 45  flavor_tropical_score     2639 non-null   float64\n",
      " 46  flavor_vanilla_score      1878 non-null   float64\n",
      " 47  flavor_violet_score       869 non-null    float64\n",
      " 48  flavor_woody_score        3704 non-null   float64\n",
      "dtypes: float64(48), object(1)\n",
      "memory usage: 3.2+ MB\n"
     ]
    }
   ],
   "source": [
    "df_flavors.info()"
   ]
  },
  {
   "cell_type": "code",
   "execution_count": null,
   "metadata": {},
   "outputs": [],
   "source": []
  },
  {
   "cell_type": "markdown",
   "metadata": {},
   "source": [
    "---\n",
    "\n",
    "## <a id=\"deskriptive-statistik\"></a>3. Deskriptive Statistik\n",
    "\n",
    "- Verteilungen, Kenngrößen, Ausreißer.\n",
    "- Genutzte Methoden: `describe()`, `isnull().sum()`, `mean()`, `median()`, `quantile()`, `corr()`.\n",
    "- Besonderheiten und Anmerkungen.\n",
    "\n",
    "---\n"
   ]
  },
  {
   "cell_type": "code",
   "execution_count": 14,
   "metadata": {},
   "outputs": [
    {
     "data": {
      "text/html": [
       "<div>\n",
       "<style scoped>\n",
       "    .dataframe tbody tr th:only-of-type {\n",
       "        vertical-align: middle;\n",
       "    }\n",
       "\n",
       "    .dataframe tbody tr th {\n",
       "        vertical-align: top;\n",
       "    }\n",
       "\n",
       "    .dataframe thead th {\n",
       "        text-align: right;\n",
       "    }\n",
       "</style>\n",
       "<table border=\"1\" class=\"dataframe\">\n",
       "  <thead>\n",
       "    <tr style=\"text-align: right;\">\n",
       "      <th></th>\n",
       "      <th>averageRating</th>\n",
       "      <th>flavor_ammonia_score</th>\n",
       "      <th>flavor_apple_score</th>\n",
       "      <th>flavor_apricot_score</th>\n",
       "      <th>flavor_berry_score</th>\n",
       "      <th>flavor_blueCheese_score</th>\n",
       "      <th>flavor_blueberry_score</th>\n",
       "      <th>flavor_butter_score</th>\n",
       "      <th>flavor_cheese_score</th>\n",
       "      <th>flavor_chemical_score</th>\n",
       "      <th>...</th>\n",
       "      <th>flavor_strawberry_score</th>\n",
       "      <th>flavor_sweet_score</th>\n",
       "      <th>flavor_tar_score</th>\n",
       "      <th>flavor_tea_score</th>\n",
       "      <th>flavor_tobacco_score</th>\n",
       "      <th>flavor_treeFruit_score</th>\n",
       "      <th>flavor_tropical_score</th>\n",
       "      <th>flavor_vanilla_score</th>\n",
       "      <th>flavor_violet_score</th>\n",
       "      <th>flavor_woody_score</th>\n",
       "    </tr>\n",
       "  </thead>\n",
       "  <tbody>\n",
       "    <tr>\n",
       "      <th>count</th>\n",
       "      <td>8492.000000</td>\n",
       "      <td>1789.000000</td>\n",
       "      <td>1461.000000</td>\n",
       "      <td>1324.000000</td>\n",
       "      <td>3679.000000</td>\n",
       "      <td>1004.000000</td>\n",
       "      <td>2073.000000</td>\n",
       "      <td>1769.000000</td>\n",
       "      <td>1734.000000</td>\n",
       "      <td>2641.000000</td>\n",
       "      <td>...</td>\n",
       "      <td>1034.000000</td>\n",
       "      <td>4697.000000</td>\n",
       "      <td>935.000000</td>\n",
       "      <td>1664.000000</td>\n",
       "      <td>1124.000000</td>\n",
       "      <td>1980.000000</td>\n",
       "      <td>2639.000000</td>\n",
       "      <td>1878.000000</td>\n",
       "      <td>869.000000</td>\n",
       "      <td>3704.000000</td>\n",
       "    </tr>\n",
       "    <tr>\n",
       "      <th>mean</th>\n",
       "      <td>3.973796</td>\n",
       "      <td>-0.581593</td>\n",
       "      <td>0.452524</td>\n",
       "      <td>-0.932150</td>\n",
       "      <td>0.814305</td>\n",
       "      <td>0.651585</td>\n",
       "      <td>0.959811</td>\n",
       "      <td>-0.346722</td>\n",
       "      <td>0.561982</td>\n",
       "      <td>0.075870</td>\n",
       "      <td>...</td>\n",
       "      <td>0.548410</td>\n",
       "      <td>0.165112</td>\n",
       "      <td>-0.854992</td>\n",
       "      <td>-0.915093</td>\n",
       "      <td>-0.990552</td>\n",
       "      <td>-0.714719</td>\n",
       "      <td>0.050326</td>\n",
       "      <td>0.218472</td>\n",
       "      <td>-0.717156</td>\n",
       "      <td>-0.029267</td>\n",
       "    </tr>\n",
       "    <tr>\n",
       "      <th>std</th>\n",
       "      <td>1.500643</td>\n",
       "      <td>1.787368</td>\n",
       "      <td>1.372139</td>\n",
       "      <td>2.419215</td>\n",
       "      <td>0.923765</td>\n",
       "      <td>1.298022</td>\n",
       "      <td>1.207838</td>\n",
       "      <td>1.607794</td>\n",
       "      <td>1.316801</td>\n",
       "      <td>1.100818</td>\n",
       "      <td>...</td>\n",
       "      <td>1.407475</td>\n",
       "      <td>0.595391</td>\n",
       "      <td>1.442680</td>\n",
       "      <td>1.363123</td>\n",
       "      <td>1.545406</td>\n",
       "      <td>1.274182</td>\n",
       "      <td>0.927139</td>\n",
       "      <td>1.161628</td>\n",
       "      <td>1.224706</td>\n",
       "      <td>0.756086</td>\n",
       "    </tr>\n",
       "    <tr>\n",
       "      <th>min</th>\n",
       "      <td>0.000000</td>\n",
       "      <td>-3.446964</td>\n",
       "      <td>-1.651334</td>\n",
       "      <td>-4.056029</td>\n",
       "      <td>-1.485027</td>\n",
       "      <td>-1.797483</td>\n",
       "      <td>-1.735963</td>\n",
       "      <td>-3.016986</td>\n",
       "      <td>-1.681674</td>\n",
       "      <td>-1.494583</td>\n",
       "      <td>...</td>\n",
       "      <td>-1.744634</td>\n",
       "      <td>-1.860661</td>\n",
       "      <td>-3.350836</td>\n",
       "      <td>-3.603344</td>\n",
       "      <td>-3.855698</td>\n",
       "      <td>-3.504959</td>\n",
       "      <td>-1.413348</td>\n",
       "      <td>-1.701893</td>\n",
       "      <td>-2.843223</td>\n",
       "      <td>-2.149026</td>\n",
       "    </tr>\n",
       "    <tr>\n",
       "      <th>25%</th>\n",
       "      <td>4.150364</td>\n",
       "      <td>-1.639328</td>\n",
       "      <td>-0.445957</td>\n",
       "      <td>-2.564425</td>\n",
       "      <td>0.193491</td>\n",
       "      <td>-0.454617</td>\n",
       "      <td>-0.017529</td>\n",
       "      <td>-1.225182</td>\n",
       "      <td>-0.346951</td>\n",
       "      <td>-0.554714</td>\n",
       "      <td>...</td>\n",
       "      <td>-0.537820</td>\n",
       "      <td>-0.228447</td>\n",
       "      <td>-1.618694</td>\n",
       "      <td>-1.827566</td>\n",
       "      <td>-1.912006</td>\n",
       "      <td>-1.481692</td>\n",
       "      <td>-0.452677</td>\n",
       "      <td>-0.458847</td>\n",
       "      <td>-1.337076</td>\n",
       "      <td>-0.531836</td>\n",
       "    </tr>\n",
       "    <tr>\n",
       "      <th>50%</th>\n",
       "      <td>4.500000</td>\n",
       "      <td>-1.243534</td>\n",
       "      <td>0.225619</td>\n",
       "      <td>-1.737230</td>\n",
       "      <td>0.812961</td>\n",
       "      <td>0.540261</td>\n",
       "      <td>1.019060</td>\n",
       "      <td>-0.955132</td>\n",
       "      <td>0.346562</td>\n",
       "      <td>-0.301421</td>\n",
       "      <td>...</td>\n",
       "      <td>0.283618</td>\n",
       "      <td>0.054583</td>\n",
       "      <td>-1.260256</td>\n",
       "      <td>-1.214877</td>\n",
       "      <td>-1.391458</td>\n",
       "      <td>-1.057579</td>\n",
       "      <td>-0.180504</td>\n",
       "      <td>0.014905</td>\n",
       "      <td>-1.110704</td>\n",
       "      <td>-0.207732</td>\n",
       "    </tr>\n",
       "    <tr>\n",
       "      <th>75%</th>\n",
       "      <td>4.727273</td>\n",
       "      <td>0.062765</td>\n",
       "      <td>0.919841</td>\n",
       "      <td>-0.165037</td>\n",
       "      <td>1.316401</td>\n",
       "      <td>1.846868</td>\n",
       "      <td>1.948285</td>\n",
       "      <td>-0.066784</td>\n",
       "      <td>1.203193</td>\n",
       "      <td>0.344027</td>\n",
       "      <td>...</td>\n",
       "      <td>1.461499</td>\n",
       "      <td>0.436202</td>\n",
       "      <td>-0.574305</td>\n",
       "      <td>-0.215581</td>\n",
       "      <td>-0.440159</td>\n",
       "      <td>-0.187373</td>\n",
       "      <td>0.217711</td>\n",
       "      <td>0.517031</td>\n",
       "      <td>-0.561240</td>\n",
       "      <td>0.288571</td>\n",
       "    </tr>\n",
       "    <tr>\n",
       "      <th>max</th>\n",
       "      <td>5.000000</td>\n",
       "      <td>9.004814</td>\n",
       "      <td>9.073327</td>\n",
       "      <td>8.665251</td>\n",
       "      <td>5.681428</td>\n",
       "      <td>6.051439</td>\n",
       "      <td>4.271466</td>\n",
       "      <td>7.938859</td>\n",
       "      <td>8.210241</td>\n",
       "      <td>6.847905</td>\n",
       "      <td>...</td>\n",
       "      <td>6.855438</td>\n",
       "      <td>3.897990</td>\n",
       "      <td>7.691276</td>\n",
       "      <td>6.736410</td>\n",
       "      <td>7.821397</td>\n",
       "      <td>7.708922</td>\n",
       "      <td>6.787964</td>\n",
       "      <td>8.190599</td>\n",
       "      <td>8.299080</td>\n",
       "      <td>5.206189</td>\n",
       "    </tr>\n",
       "  </tbody>\n",
       "</table>\n",
       "<p>8 rows × 48 columns</p>\n",
       "</div>"
      ],
      "text/plain": [
       "       averageRating  flavor_ammonia_score  flavor_apple_score  \\\n",
       "count    8492.000000           1789.000000         1461.000000   \n",
       "mean        3.973796             -0.581593            0.452524   \n",
       "std         1.500643              1.787368            1.372139   \n",
       "min         0.000000             -3.446964           -1.651334   \n",
       "25%         4.150364             -1.639328           -0.445957   \n",
       "50%         4.500000             -1.243534            0.225619   \n",
       "75%         4.727273              0.062765            0.919841   \n",
       "max         5.000000              9.004814            9.073327   \n",
       "\n",
       "       flavor_apricot_score  flavor_berry_score  flavor_blueCheese_score  \\\n",
       "count           1324.000000         3679.000000              1004.000000   \n",
       "mean              -0.932150            0.814305                 0.651585   \n",
       "std                2.419215            0.923765                 1.298022   \n",
       "min               -4.056029           -1.485027                -1.797483   \n",
       "25%               -2.564425            0.193491                -0.454617   \n",
       "50%               -1.737230            0.812961                 0.540261   \n",
       "75%               -0.165037            1.316401                 1.846868   \n",
       "max                8.665251            5.681428                 6.051439   \n",
       "\n",
       "       flavor_blueberry_score  flavor_butter_score  flavor_cheese_score  \\\n",
       "count             2073.000000          1769.000000          1734.000000   \n",
       "mean                 0.959811            -0.346722             0.561982   \n",
       "std                  1.207838             1.607794             1.316801   \n",
       "min                 -1.735963            -3.016986            -1.681674   \n",
       "25%                 -0.017529            -1.225182            -0.346951   \n",
       "50%                  1.019060            -0.955132             0.346562   \n",
       "75%                  1.948285            -0.066784             1.203193   \n",
       "max                  4.271466             7.938859             8.210241   \n",
       "\n",
       "       flavor_chemical_score  ...  flavor_strawberry_score  \\\n",
       "count            2641.000000  ...              1034.000000   \n",
       "mean                0.075870  ...                 0.548410   \n",
       "std                 1.100818  ...                 1.407475   \n",
       "min                -1.494583  ...                -1.744634   \n",
       "25%                -0.554714  ...                -0.537820   \n",
       "50%                -0.301421  ...                 0.283618   \n",
       "75%                 0.344027  ...                 1.461499   \n",
       "max                 6.847905  ...                 6.855438   \n",
       "\n",
       "       flavor_sweet_score  flavor_tar_score  flavor_tea_score  \\\n",
       "count         4697.000000        935.000000       1664.000000   \n",
       "mean             0.165112         -0.854992         -0.915093   \n",
       "std              0.595391          1.442680          1.363123   \n",
       "min             -1.860661         -3.350836         -3.603344   \n",
       "25%             -0.228447         -1.618694         -1.827566   \n",
       "50%              0.054583         -1.260256         -1.214877   \n",
       "75%              0.436202         -0.574305         -0.215581   \n",
       "max              3.897990          7.691276          6.736410   \n",
       "\n",
       "       flavor_tobacco_score  flavor_treeFruit_score  flavor_tropical_score  \\\n",
       "count           1124.000000             1980.000000            2639.000000   \n",
       "mean              -0.990552               -0.714719               0.050326   \n",
       "std                1.545406                1.274182               0.927139   \n",
       "min               -3.855698               -3.504959              -1.413348   \n",
       "25%               -1.912006               -1.481692              -0.452677   \n",
       "50%               -1.391458               -1.057579              -0.180504   \n",
       "75%               -0.440159               -0.187373               0.217711   \n",
       "max                7.821397                7.708922               6.787964   \n",
       "\n",
       "       flavor_vanilla_score  flavor_violet_score  flavor_woody_score  \n",
       "count           1878.000000           869.000000         3704.000000  \n",
       "mean               0.218472            -0.717156           -0.029267  \n",
       "std                1.161628             1.224706            0.756086  \n",
       "min               -1.701893            -2.843223           -2.149026  \n",
       "25%               -0.458847            -1.337076           -0.531836  \n",
       "50%                0.014905            -1.110704           -0.207732  \n",
       "75%                0.517031            -0.561240            0.288571  \n",
       "max                8.190599             8.299080            5.206189  \n",
       "\n",
       "[8 rows x 48 columns]"
      ]
     },
     "execution_count": 14,
     "metadata": {},
     "output_type": "execute_result"
    }
   ],
   "source": [
    "df_flavors.describe()"
   ]
  },
  {
   "cell_type": "code",
   "execution_count": 19,
   "metadata": {},
   "outputs": [
    {
     "data": {
      "text/plain": [
       "averageRating                  0\n",
       "name                           0\n",
       "flavor_ammonia_score        6703\n",
       "flavor_apple_score          7031\n",
       "flavor_apricot_score        7168\n",
       "flavor_berry_score          4813\n",
       "flavor_blueCheese_score     7488\n",
       "flavor_blueberry_score      6419\n",
       "flavor_butter_score         6723\n",
       "flavor_cheese_score         6758\n",
       "flavor_chemical_score       5851\n",
       "flavor_chestnut_score       7440\n",
       "flavor_citrus_score         4155\n",
       "flavor_coffee_score         7205\n",
       "flavor_diesel_score         4992\n",
       "flavor_earthy_score         3201\n",
       "flavor_flowery_score        4497\n",
       "flavor_grape_score          6679\n",
       "flavor_grapefruit_score     6819\n",
       "flavor_honey_score          6843\n",
       "flavor_lavender_score       6892\n",
       "flavor_lemon_score          5542\n",
       "flavor_lime_score           6764\n",
       "flavor_mango_score          7250\n",
       "flavor_menthol_score        7412\n",
       "flavor_mint_score           6795\n",
       "flavor_nutty_score          6376\n",
       "flavor_orange_score         6790\n",
       "flavor_peach_score          7648\n",
       "flavor_pear_score           7763\n",
       "flavor_pepper_score         5916\n",
       "flavor_pine_score           4844\n",
       "flavor_pineapple_score      7353\n",
       "flavor_plum_score           7714\n",
       "flavor_pungent_score        4610\n",
       "flavor_rose_score           7511\n",
       "flavor_sage_score           6816\n",
       "flavor_skunk_score          5327\n",
       "flavor_spicyHerbal_score    6853\n",
       "flavor_strawberry_score     7458\n",
       "flavor_sweet_score          3795\n",
       "flavor_tar_score            7557\n",
       "flavor_tea_score            6828\n",
       "flavor_tobacco_score        7368\n",
       "flavor_treeFruit_score      6512\n",
       "flavor_tropical_score       5853\n",
       "flavor_vanilla_score        6614\n",
       "flavor_violet_score         7623\n",
       "flavor_woody_score          4788\n",
       "dtype: int64"
      ]
     },
     "execution_count": 19,
     "metadata": {},
     "output_type": "execute_result"
    }
   ],
   "source": [
    "df_flavors.isnull().sum()"
   ]
  },
  {
   "cell_type": "markdown",
   "metadata": {},
   "source": [
    "---\n",
    "## <a id=\"visualisierung-der-flavours\"></a>4. Visualisierung der Flavours\n",
    "\n",
    "- Häufigkeits- oder Verteilungsplots der Flavour-Scores (z.B. welche Flavours kommen am häufigsten vor?).\n",
    "- Boxplots oder Histogramme ausgewählter Flavours.\n",
    "- Heatmap: Korrelationen zwischen den Flavour-Scores.\n",
    "---\n"
   ]
  },
  {
   "cell_type": "code",
   "execution_count": null,
   "metadata": {},
   "outputs": [
    {
     "data": {
      "image/png": "[encoded data removed]",
      "text/plain": [
       "<Figure size 640x480 with 2 Axes>"
      ]
     },
     "metadata": {},
     "output_type": "display_data"
    }
   ],
   "source": [
    "sns.heatmap(\n",
    "    df_flavors.corr(numeric_only=True),\n",
    "    cmap=\"coolwarm\",\n",
    "    vmin=-1.0,\n",
    ")\n",
    "plt.title(\"Korrelation Flavours\")\n",
    "plt.show()"
   ]
  },
  {
   "cell_type": "code",
   "execution_count": 33,
   "metadata": {},
   "outputs": [
    {
     "data": {
      "application/vnd.plotly.v1+json": {
       "config": {
        "plotlyServerURL": "https://plot.ly"
       },
       "data": [
        {
         "coloraxis": "coloraxis",
         "hovertemplate": "x: %{x}<br>y: %{y}<br>Korrelation: %{z}<extra></extra>",
         "name": "0",
         "type": "heatmap",
         "x": [
          "flavor_ammonia_score",
          "flavor_apple_score",
          "flavor_apricot_score",
          "flavor_berry_score",
          "flavor_blueCheese_score",
          "flavor_blueberry_score",
          "flavor_butter_score",
          "flavor_cheese_score",
          "flavor_chemical_score",
          "flavor_chestnut_score",
          "flavor_citrus_score",
          "flavor_coffee_score",
          "flavor_diesel_score",
          "flavor_earthy_score",
          "flavor_flowery_score",
          "flavor_grape_score",
          "flavor_grapefruit_score",
          "flavor_honey_score",
          "flavor_lavender_score",
          "flavor_lemon_score",
          "flavor_lime_score",
          "flavor_mango_score",
          "flavor_menthol_score",
          "flavor_mint_score",
          "flavor_nutty_score",
          "flavor_orange_score",
          "flavor_peach_score",
          "flavor_pear_score",
          "flavor_pepper_score",
          "flavor_pine_score",
          "flavor_pineapple_score",
          "flavor_plum_score",
          "flavor_pungent_score",
          "flavor_rose_score",
          "flavor_sage_score",
          "flavor_skunk_score",
          "flavor_spicyHerbal_score",
          "flavor_strawberry_score",
          "flavor_sweet_score",
          "flavor_tar_score",
          "flavor_tea_score",
          "flavor_tobacco_score",
          "flavor_treeFruit_score",
          "flavor_tropical_score",
          "flavor_vanilla_score",
          "flavor_violet_score",
          "flavor_woody_score"
         ],
         "xaxis": "x",
         "y": [
          "flavor_ammonia_score",
          "flavor_apple_score",
          "flavor_apricot_score",
          "flavor_berry_score",
          "flavor_blueCheese_score",
          "flavor_blueberry_score",
          "flavor_butter_score",
          "flavor_cheese_score",
          "flavor_chemical_score",
          "flavor_chestnut_score",
          "flavor_citrus_score",
          "flavor_coffee_score",
          "flavor_diesel_score",
          "flavor_earthy_score",
          "flavor_flowery_score",
          "flavor_grape_score",
          "flavor_grapefruit_score",
          "flavor_honey_score",
          "flavor_lavender_score",
          "flavor_lemon_score",
          "flavor_lime_score",
          "flavor_mango_score",
          "flavor_menthol_score",
          "flavor_mint_score",
          "flavor_nutty_score",
          "flavor_orange_score",
          "flavor_peach_score",
          "flavor_pear_score",
          "flavor_pepper_score",
          "flavor_pine_score",
          "flavor_pineapple_score",
          "flavor_plum_score",
          "flavor_pungent_score",
          "flavor_rose_score",
          "flavor_sage_score",
          "flavor_skunk_score",
          "flavor_spicyHerbal_score",
          "flavor_strawberry_score",
          "flavor_sweet_score",
          "flavor_tar_score",
          "flavor_tea_score",
          "flavor_tobacco_score",
          "flavor_treeFruit_score",
          "flavor_tropical_score",
          "flavor_vanilla_score",
          "flavor_violet_score",
          "flavor_woody_score"
         ],
         "yaxis": "y",
         "z": {
          "bdata": "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",
          "dtype": "f8",
          "shape": "47, 47"
         }
        }
       ],
       "layout": {
        "coloraxis": {
         "cmax": 1,
         "cmin": -1,
         "colorbar": {
          "title": {
           "text": "Korrelation"
          }
         },
         "colorscale": [
          [
           0,
           "rgb(75, 41, 145)"
          ],
          [
           0.16666666666666666,
           "rgb(135, 44, 162)"
          ],
          [
           0.3333333333333333,
           "rgb(192, 54, 157)"
          ],
          [
           0.5,
           "rgb(234, 79, 136)"
          ],
          [
           0.6666666666666666,
           "rgb(250, 120, 118)"
          ],
          [
           0.8333333333333334,
           "rgb(246, 169, 122)"
          ],
          [
           1,
           "rgb(237, 217, 163)"
          ]
         ]
        },
        "font": {
         "size": 12
        },
        "height": 1200,
        "template": {
         "data": {
          "bar": [
           {
            "error_x": {
             "color": "#2a3f5f"
            },
            "error_y": {
             "color": "#2a3f5f"
            },
            "marker": {
             "line": {
              "color": "#E5ECF6",
              "width": 0.5
             },
             "pattern": {
              "fillmode": "overlay",
              "size": 10,
              "solidity": 0.2
             }
            },
            "type": "bar"
           }
          ],
          "barpolar": [
           {
            "marker": {
             "line": {
              "color": "#E5ECF6",
              "width": 0.5
             },
             "pattern": {
              "fillmode": "overlay",
              "size": 10,
              "solidity": 0.2
             }
            },
            "type": "barpolar"
           }
          ],
          "carpet": [
           {
            "aaxis": {
             "endlinecolor": "#2a3f5f",
             "gridcolor": "white",
             "linecolor": "white",
             "minorgridcolor": "white",
             "startlinecolor": "#2a3f5f"
            },
            "baxis": {
             "endlinecolor": "#2a3f5f",
             "gridcolor": "white",
             "linecolor": "white",
             "minorgridcolor": "white",
             "startlinecolor": "#2a3f5f"
            },
            "type": "carpet"
           }
          ],
          "choropleth": [
           {
            "colorbar": {
             "outlinewidth": 0,
             "ticks": ""
            },
            "type": "choropleth"
           }
          ],
          "contour": [
           {
            "colorbar": {
             "outlinewidth": 0,
             "ticks": ""
            },
            "colorscale": [
             [
              0,
              "#0d0887"
             ],
             [
              0.1111111111111111,
              "#46039f"
             ],
             [
              0.2222222222222222,
              "#7201a8"
             ],
             [
              0.3333333333333333,
              "#9c179e"
             ],
             [
              0.4444444444444444,
              "#bd3786"
             ],
             [
              0.5555555555555556,
              "#d8576b"
             ],
             [
              0.6666666666666666,
              "#ed7953"
             ],
             [
              0.7777777777777778,
              "#fb9f3a"
             ],
             [
              0.8888888888888888,
              "#fdca26"
             ],
             [
              1,
              "#f0f921"
             ]
            ],
            "type": "contour"
           }
          ],
          "contourcarpet": [
           {
            "colorbar": {
             "outlinewidth": 0,
             "ticks": ""
            },
            "type": "contourcarpet"
           }
          ],
          "heatmap": [
           {
            "colorbar": {
             "outlinewidth": 0,
             "ticks": ""
            },
            "colorscale": [
             [
              0,
              "#0d0887"
             ],
             [
              0.1111111111111111,
              "#46039f"
             ],
             [
              0.2222222222222222,
              "#7201a8"
             ],
             [
              0.3333333333333333,
              "#9c179e"
             ],
             [
              0.4444444444444444,
              "#bd3786"
             ],
             [
              0.5555555555555556,
              "#d8576b"
             ],
             [
              0.6666666666666666,
              "#ed7953"
             ],
             [
              0.7777777777777778,
              "#fb9f3a"
             ],
             [
              0.8888888888888888,
              "#fdca26"
             ],
             [
              1,
              "#f0f921"
             ]
            ],
            "type": "heatmap"
           }
          ],
          "histogram": [
           {
            "marker": {
             "pattern": {
              "fillmode": "overlay",
              "size": 10,
              "solidity": 0.2
             }
            },
            "type": "histogram"
           }
          ],
          "histogram2d": [
           {
            "colorbar": {
             "outlinewidth": 0,
             "ticks": ""
            },
            "colorscale": [
             [
              0,
              "#0d0887"
             ],
             [
              0.1111111111111111,
              "#46039f"
             ],
             [
              0.2222222222222222,
              "#7201a8"
             ],
             [
              0.3333333333333333,
              "#9c179e"
             ],
             [
              0.4444444444444444,
              "#bd3786"
             ],
             [
              0.5555555555555556,
              "#d8576b"
             ],
             [
              0.6666666666666666,
              "#ed7953"
             ],
             [
              0.7777777777777778,
              "#fb9f3a"
             ],
             [
              0.8888888888888888,
              "#fdca26"
             ],
             [
              1,
              "#f0f921"
             ]
            ],
            "type": "histogram2d"
           }
          ],
          "histogram2dcontour": [
           {
            "colorbar": {
             "outlinewidth": 0,
             "ticks": ""
            },
            "colorscale": [
             [
              0,
              "#0d0887"
             ],
             [
              0.1111111111111111,
              "#46039f"
             ],
             [
              0.2222222222222222,
              "#7201a8"
             ],
             [
              0.3333333333333333,
              "#9c179e"
             ],
             [
              0.4444444444444444,
              "#bd3786"
             ],
             [
              0.5555555555555556,
              "#d8576b"
             ],
             [
              0.6666666666666666,
              "#ed7953"
             ],
             [
              0.7777777777777778,
              "#fb9f3a"
             ],
             [
              0.8888888888888888,
              "#fdca26"
             ],
             [
              1,
              "#f0f921"
             ]
            ],
            "type": "histogram2dcontour"
           }
          ],
          "mesh3d": [
           {
            "colorbar": {
             "outlinewidth": 0,
             "ticks": ""
            },
            "type": "mesh3d"
           }
          ],
          "parcoords": [
           {
            "line": {
             "colorbar": {
              "outlinewidth": 0,
              "ticks": ""
             }
            },
            "type": "parcoords"
           }
          ],
          "pie": [
           {
            "automargin": true,
            "type": "pie"
           }
          ],
          "scatter": [
           {
            "fillpattern": {
             "fillmode": "overlay",
             "size": 10,
             "solidity": 0.2
            },
            "type": "scatter"
           }
          ],
          "scatter3d": [
           {
            "line": {
             "colorbar": {
              "outlinewidth": 0,
              "ticks": ""
             }
            },
            "marker": {
             "colorbar": {
              "outlinewidth": 0,
              "ticks": ""
             }
            },
            "type": "scatter3d"
           }
          ],
          "scattercarpet": [
           {
            "marker": {
             "colorbar": {
              "outlinewidth": 0,
              "ticks": ""
             }
            },
            "type": "scattercarpet"
           }
          ],
          "scattergeo": [
           {
            "marker": {
             "colorbar": {
              "outlinewidth": 0,
              "ticks": ""
             }
            },
            "type": "scattergeo"
           }
          ],
          "scattergl": [
           {
            "marker": {
             "colorbar": {
              "outlinewidth": 0,
              "ticks": ""
             }
            },
            "type": "scattergl"
           }
          ],
          "scattermap": [
           {
            "marker": {
             "colorbar": {
              "outlinewidth": 0,
              "ticks": ""
             }
            },
            "type": "scattermap"
           }
          ],
          "scattermapbox": [
           {
            "marker": {
             "colorbar": {
              "outlinewidth": 0,
              "ticks": ""
             }
            },
            "type": "scattermapbox"
           }
          ],
          "scatterpolar": [
           {
            "marker": {
             "colorbar": {
              "outlinewidth": 0,
              "ticks": ""
             }
            },
            "type": "scatterpolar"
           }
          ],
          "scatterpolargl": [
           {
            "marker": {
             "colorbar": {
              "outlinewidth": 0,
              "ticks": ""
             }
            },
            "type": "scatterpolargl"
           }
          ],
          "scatterternary": [
           {
            "marker": {
             "colorbar": {
              "outlinewidth": 0,
              "ticks": ""
             }
            },
            "type": "scatterternary"
           }
          ],
          "surface": [
           {
            "colorbar": {
             "outlinewidth": 0,
             "ticks": ""
            },
            "colorscale": [
             [
              0,
              "#0d0887"
             ],
             [
              0.1111111111111111,
              "#46039f"
             ],
             [
              0.2222222222222222,
              "#7201a8"
             ],
             [
              0.3333333333333333,
              "#9c179e"
             ],
             [
              0.4444444444444444,
              "#bd3786"
             ],
             [
              0.5555555555555556,
              "#d8576b"
             ],
             [
              0.6666666666666666,
              "#ed7953"
             ],
             [
              0.7777777777777778,
              "#fb9f3a"
             ],
             [
              0.8888888888888888,
              "#fdca26"
             ],
             [
              1,
              "#f0f921"
             ]
            ],
            "type": "surface"
           }
          ],
          "table": [
           {
            "cells": {
             "fill": {
              "color": "#EBF0F8"
             },
             "line": {
              "color": "white"
             }
            },
            "header": {
             "fill": {
              "color": "#C8D4E3"
             },
             "line": {
              "color": "white"
             }
            },
            "type": "table"
           }
          ]
         },
         "layout": {
          "annotationdefaults": {
           "arrowcolor": "#2a3f5f",
           "arrowhead": 0,
           "arrowwidth": 1
          },
          "autotypenumbers": "strict",
          "coloraxis": {
           "colorbar": {
            "outlinewidth": 0,
            "ticks": ""
           }
          },
          "colorscale": {
           "diverging": [
            [
             0,
             "#8e0152"
            ],
            [
             0.1,
             "#c51b7d"
            ],
            [
             0.2,
             "#de77ae"
            ],
            [
             0.3,
             "#f1b6da"
            ],
            [
             0.4,
             "#fde0ef"
            ],
            [
             0.5,
             "#f7f7f7"
            ],
            [
             0.6,
             "#e6f5d0"
            ],
            [
             0.7,
             "#b8e186"
            ],
            [
             0.8,
             "#7fbc41"
            ],
            [
             0.9,
             "#4d9221"
            ],
            [
             1,
             "#276419"
            ]
           ],
           "sequential": [
            [
             0,
             "#0d0887"
            ],
            [
             0.1111111111111111,
             "#46039f"
            ],
            [
             0.2222222222222222,
             "#7201a8"
            ],
            [
             0.3333333333333333,
             "#9c179e"
            ],
            [
             0.4444444444444444,
             "#bd3786"
            ],
            [
             0.5555555555555556,
             "#d8576b"
            ],
            [
             0.6666666666666666,
             "#ed7953"
            ],
            [
             0.7777777777777778,
             "#fb9f3a"
            ],
            [
             0.8888888888888888,
             "#fdca26"
            ],
            [
             1,
             "#f0f921"
            ]
           ],
           "sequentialminus": [
            [
             0,
             "#0d0887"
            ],
            [
             0.1111111111111111,
             "#46039f"
            ],
            [
             0.2222222222222222,
             "#7201a8"
            ],
            [
             0.3333333333333333,
             "#9c179e"
            ],
            [
             0.4444444444444444,
             "#bd3786"
            ],
            [
             0.5555555555555556,
             "#d8576b"
            ],
            [
             0.6666666666666666,
             "#ed7953"
            ],
            [
             0.7777777777777778,
             "#fb9f3a"
            ],
            [
             0.8888888888888888,
             "#fdca26"
            ],
            [
             1,
             "#f0f921"
            ]
           ]
          },
          "colorway": [
           "#636efa",
           "#EF553B",
           "#00cc96",
           "#ab63fa",
           "#FFA15A",
           "#19d3f3",
           "#FF6692",
           "#B6E880",
           "#FF97FF",
           "#FECB52"
          ],
          "font": {
           "color": "#2a3f5f"
          },
          "geo": {
           "bgcolor": "white",
           "lakecolor": "white",
           "landcolor": "#E5ECF6",
           "showlakes": true,
           "showland": true,
           "subunitcolor": "white"
          },
          "hoverlabel": {
           "align": "left"
          },
          "hovermode": "closest",
          "mapbox": {
           "style": "light"
          },
          "paper_bgcolor": "white",
          "plot_bgcolor": "#E5ECF6",
          "polar": {
           "angularaxis": {
            "gridcolor": "white",
            "linecolor": "white",
            "ticks": ""
           },
           "bgcolor": "#E5ECF6",
           "radialaxis": {
            "gridcolor": "white",
            "linecolor": "white",
            "ticks": ""
           }
          },
          "scene": {
           "xaxis": {
            "backgroundcolor": "#E5ECF6",
            "gridcolor": "white",
            "gridwidth": 2,
            "linecolor": "white",
            "showbackground": true,
            "ticks": "",
            "zerolinecolor": "white"
           },
           "yaxis": {
            "backgroundcolor": "#E5ECF6",
            "gridcolor": "white",
            "gridwidth": 2,
            "linecolor": "white",
            "showbackground": true,
            "ticks": "",
            "zerolinecolor": "white"
           },
           "zaxis": {
            "backgroundcolor": "#E5ECF6",
            "gridcolor": "white",
            "gridwidth": 2,
            "linecolor": "white",
            "showbackground": true,
            "ticks": "",
            "zerolinecolor": "white"
           }
          },
          "shapedefaults": {
           "line": {
            "color": "#2a3f5f"
           }
          },
          "ternary": {
           "aaxis": {
            "gridcolor": "white",
            "linecolor": "white",
            "ticks": ""
           },
           "baxis": {
            "gridcolor": "white",
            "linecolor": "white",
            "ticks": ""
           },
           "bgcolor": "#E5ECF6",
           "caxis": {
            "gridcolor": "white",
            "linecolor": "white",
            "ticks": ""
           }
          },
          "title": {
           "x": 0.05
          },
          "xaxis": {
           "automargin": true,
           "gridcolor": "white",
           "linecolor": "white",
           "ticks": "",
           "title": {
            "standoff": 15
           },
           "zerolinecolor": "white",
           "zerolinewidth": 2
          },
          "yaxis": {
           "automargin": true,
           "gridcolor": "white",
           "linecolor": "white",
           "ticks": "",
           "title": {
            "standoff": 15
           },
           "zerolinecolor": "white",
           "zerolinewidth": 2
          }
         }
        },
        "title": {
         "text": "Korrelation der Flavour-Scores"
        },
        "width": 1400,
        "xaxis": {
         "anchor": "y",
         "constrain": "domain",
         "domain": [
          0,
          1
         ],
         "scaleanchor": "y",
         "side": "bottom"
        },
        "yaxis": {
         "anchor": "x",
         "autorange": "reversed",
         "constrain": "domain",
         "domain": [
          0,
          1
         ]
        }
       }
      }
     },
     "metadata": {},
     "output_type": "display_data"
    }
   ],
   "source": [
    "flavor_corr = df_flavors[flavor_cols].corr()\n",
    "\n",
    "fig = px.imshow(\n",
    "    flavor_corr,\n",
    "    color_continuous_scale=\"agsunset\",\n",
    "    zmin=-1,\n",
    "    zmax=1,\n",
    "    labels=dict(color=\"Korrelation\"),\n",
    "    title=\"Korrelation der Flavour-Scores\",\n",
    ")\n",
    "fig.update_layout(width=1400, height=1200, font=dict(size=12))\n",
    "\n",
    "fig.update_xaxes(side=\"bottom\")\n",
    "fig.show()"
   ]
  },
  {
   "cell_type": "markdown",
   "metadata": {},
   "source": [
    "## <a id=\"weitere-analysen--ideen\"></a>5. Weitere Analysen & Ideen\n",
    "\n",
    "-   Top-Strains pro Flavour (Barplots/Tables).\n",
    "-   Cluster-Analyse nach Flavour-Profilen.\n",
    "-   Zusammenhang von averageRating und bestimmten Flavours.\n",
    "-   Ausreißer & Besonderheiten in den Flavour-Profilen.\n",
    "\n",
    "---\n",
    "\n",
    "## <a id=\"fazit--to-dos\"></a>6. Fazit\n",
    "\n",
    "-   Wichtigste Erkenntnisse der Analyse.\n",
    "-   Offene Fragen und nächste Schritte.\n",
    "\n",
    "---\n"
   ]
  }
 ],
 "metadata": {
  "kernelspec": {
   "display_name": "Python 3",
   "language": "python",
   "name": "python3"
  },
  "language_info": {
   "codemirror_mode": {
    "name": "ipython",
    "version": 3
   },
   "file_extension": ".py",
   "mimetype": "text/x-python",
   "name": "python",
   "nbconvert_exporter": "python",
   "pygments_lexer": "ipython3",
   "version": "3.13.1"
  }
 },
 "nbformat": 4,
 "nbformat_minor": 2
}
