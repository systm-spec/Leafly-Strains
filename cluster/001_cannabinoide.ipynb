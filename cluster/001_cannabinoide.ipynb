{
 "cells": [
  {
   "cell_type": "code",
   "execution_count": 57,
   "metadata": {},
   "outputs": [],
   "source": [
    "import pandas as pd\n",
    "import seaborn as sns\n",
    "import matplotlib.pyplot as plt\n",
    "import plotly.express as px"
   ]
  },
  {
   "cell_type": "markdown",
   "metadata": {},
   "source": [
    "# 🧪 Cluster 001: Cannabinoide Insights\n",
    "\n",
    "_Datenexploration und Analyse der wichtigsten Cannabinoid-Werte aus dem Leafly Strain Dataset_\n",
    "\n",
    "---\n",
    "\n",
    "## Inhaltsverzeichnis\n",
    "\n",
    "1. [Setup & Overview](#setup--overview)\n",
    "2. [DataFrame Struktur](#dataframe-struktur)\n",
    "3. [Deskriptive Statistik](#deskriptive-statistik)\n",
    "4. [Visualisierung der Cannabinoide](#visualisierung-der-cannabinoide)\n",
    "5. [Weitere Analysen & Ideen](#weitere-analysen--ideen)\n",
    "6. [Fazit & To Dos](#fazit--to-dos)\n",
    "\n",
    "---\n",
    "\n",
    "> _Hinweis: Der DataFrame enthält bereits bereinigte und umbenannte Felder sowie den Strain-Namen für bessere Lesbarkeit._\n"
   ]
  },
  {
   "cell_type": "markdown",
   "metadata": {},
   "source": [
    "---\n",
    "## 1. Setup & Overview\n",
    "\n",
    "- Dieses Notebook untersucht die wichtigsten Cannabinoid-Gehalte verschiedener Strains.\n",
    "- Alle Werte sind vom 50. Perzentil und in %. <br/>\n",
    "---\n"
   ]
  },
  {
   "cell_type": "code",
   "execution_count": 13,
   "metadata": {},
   "outputs": [],
   "source": [
    "# import\n",
    "df = pd.read_csv(\"../csv/strains.csv\")\n",
    "df = df.set_index(\"id\").sort_values(\"id\")"
   ]
  },
  {
   "cell_type": "code",
   "execution_count": 14,
   "metadata": {},
   "outputs": [],
   "source": [
    "# cannabinoide-df\n",
    "cb_df = df[\n",
    "    [\n",
    "        \"name\",\n",
    "        \"cannabinoid_thc_percentile50\",\n",
    "        \"cannabinoid_cbd_percentile50\",\n",
    "        \"cannabinoid_cbg_percentile50\",\n",
    "        \"cannabinoid_thcv_percentile50\",\n",
    "        \"cannabinoid_cbc_percentile50\",\n",
    "    ]\n",
    "].rename(\n",
    "    columns={\n",
    "        \"cannabinoid_thc_percentile50\": \"thc\",\n",
    "        \"cannabinoid_cbd_percentile50\": \"cbd\",\n",
    "        \"cannabinoid_cbg_percentile50\": \"cbg\",\n",
    "        \"cannabinoid_thcv_percentile50\": \"thcv\",\n",
    "        \"cannabinoid_cbc_percentile50\": \"cbc\",\n",
    "    }\n",
    ")"
   ]
  },
  {
   "cell_type": "markdown",
   "metadata": {},
   "source": [
    "---\n",
    "\n",
    "## 2. DataFrame Struktur\n",
    "\n",
    "*Kurzer Überblick über Spalten und Beispiel-Datensätze (z.B. via `df.head()` oder `df.info()`).*  \n",
    "Liste der Felder:  \n",
    "- name\n",
    "- thc\n",
    "- cbd\n",
    "- cbg\n",
    "- thcv\n",
    "- cbc\n",
    "\n",
    "---\n"
   ]
  },
  {
   "cell_type": "code",
   "execution_count": 15,
   "metadata": {},
   "outputs": [
    {
     "name": "stdout",
     "output_type": "stream",
     "text": [
      "<class 'pandas.core.frame.DataFrame'>\n",
      "Index: 8492 entries, 1 to 518764\n",
      "Data columns (total 6 columns):\n",
      " #   Column  Non-Null Count  Dtype  \n",
      "---  ------  --------------  -----  \n",
      " 0   name    8492 non-null   object \n",
      " 1   thc     4248 non-null   float64\n",
      " 2   cbd     3666 non-null   float64\n",
      " 3   cbg     3638 non-null   float64\n",
      " 4   thcv    3337 non-null   float64\n",
      " 5   cbc     3078 non-null   float64\n",
      "dtypes: float64(5), object(1)\n",
      "memory usage: 464.4+ KB\n"
     ]
    }
   ],
   "source": [
    "cb_df.info()"
   ]
  },
  {
   "cell_type": "code",
   "execution_count": 18,
   "metadata": {},
   "outputs": [
    {
     "data": {
      "text/html": [
       "<div>\n",
       "<style scoped>\n",
       "    .dataframe tbody tr th:only-of-type {\n",
       "        vertical-align: middle;\n",
       "    }\n",
       "\n",
       "    .dataframe tbody tr th {\n",
       "        vertical-align: top;\n",
       "    }\n",
       "\n",
       "    .dataframe thead th {\n",
       "        text-align: right;\n",
       "    }\n",
       "</style>\n",
       "<table border=\"1\" class=\"dataframe\">\n",
       "  <thead>\n",
       "    <tr style=\"text-align: right;\">\n",
       "      <th></th>\n",
       "      <th>name</th>\n",
       "      <th>thc</th>\n",
       "      <th>cbd</th>\n",
       "      <th>cbg</th>\n",
       "      <th>thcv</th>\n",
       "      <th>cbc</th>\n",
       "    </tr>\n",
       "    <tr>\n",
       "      <th>id</th>\n",
       "      <th></th>\n",
       "      <th></th>\n",
       "      <th></th>\n",
       "      <th></th>\n",
       "      <th></th>\n",
       "      <th></th>\n",
       "    </tr>\n",
       "  </thead>\n",
       "  <tbody>\n",
       "    <tr>\n",
       "      <th>1</th>\n",
       "      <td>AK-47</td>\n",
       "      <td>19.0</td>\n",
       "      <td>0.0</td>\n",
       "      <td>0.0</td>\n",
       "      <td>0.0</td>\n",
       "      <td>0.0</td>\n",
       "    </tr>\n",
       "    <tr>\n",
       "      <th>2</th>\n",
       "      <td>Chemdawg</td>\n",
       "      <td>18.0</td>\n",
       "      <td>0.0</td>\n",
       "      <td>1.0</td>\n",
       "      <td>0.0</td>\n",
       "      <td>0.0</td>\n",
       "    </tr>\n",
       "    <tr>\n",
       "      <th>3</th>\n",
       "      <td>Mr. Nice Guy</td>\n",
       "      <td>17.0</td>\n",
       "      <td>0.0</td>\n",
       "      <td>0.0</td>\n",
       "      <td>0.0</td>\n",
       "      <td>0.0</td>\n",
       "    </tr>\n",
       "    <tr>\n",
       "      <th>6</th>\n",
       "      <td>Super Silver Haze</td>\n",
       "      <td>21.0</td>\n",
       "      <td>0.0</td>\n",
       "      <td>1.0</td>\n",
       "      <td>0.0</td>\n",
       "      <td>0.0</td>\n",
       "    </tr>\n",
       "    <tr>\n",
       "      <th>7</th>\n",
       "      <td>Northern Lights #5</td>\n",
       "      <td>19.0</td>\n",
       "      <td>0.0</td>\n",
       "      <td>1.0</td>\n",
       "      <td>0.0</td>\n",
       "      <td>0.0</td>\n",
       "    </tr>\n",
       "    <tr>\n",
       "      <th>8</th>\n",
       "      <td>Snowcap</td>\n",
       "      <td>19.0</td>\n",
       "      <td>0.0</td>\n",
       "      <td>2.0</td>\n",
       "      <td>0.0</td>\n",
       "      <td>0.0</td>\n",
       "    </tr>\n",
       "    <tr>\n",
       "      <th>9</th>\n",
       "      <td>Blue Cheese</td>\n",
       "      <td>18.0</td>\n",
       "      <td>0.0</td>\n",
       "      <td>1.0</td>\n",
       "      <td>0.0</td>\n",
       "      <td>0.0</td>\n",
       "    </tr>\n",
       "  </tbody>\n",
       "</table>\n",
       "</div>"
      ],
      "text/plain": [
       "                  name   thc  cbd  cbg  thcv  cbc\n",
       "id                                               \n",
       "1                AK-47  19.0  0.0  0.0   0.0  0.0\n",
       "2             Chemdawg  18.0  0.0  1.0   0.0  0.0\n",
       "3         Mr. Nice Guy  17.0  0.0  0.0   0.0  0.0\n",
       "6    Super Silver Haze  21.0  0.0  1.0   0.0  0.0\n",
       "7   Northern Lights #5  19.0  0.0  1.0   0.0  0.0\n",
       "8              Snowcap  19.0  0.0  2.0   0.0  0.0\n",
       "9          Blue Cheese  18.0  0.0  1.0   0.0  0.0"
      ]
     },
     "execution_count": 18,
     "metadata": {},
     "output_type": "execute_result"
    }
   ],
   "source": [
    "cb_df.sort_values(by=\"id\").head(7)"
   ]
  },
  {
   "cell_type": "markdown",
   "metadata": {},
   "source": [
    "---\n",
    "## 3. Deskriptive Statistik\n",
    "\n",
    "### Basisstatistik\n",
    "- Übersicht\n",
    "- Nullwerte, Max/Min, Verteilungen\n",
    "- ggf. Korrelationen zwischen Cannabinoiden\n",
    "---\n"
   ]
  },
  {
   "cell_type": "code",
   "execution_count": null,
   "metadata": {},
   "outputs": [
    {
     "data": {
      "text/html": [
       "<div>\n",
       "<style scoped>\n",
       "    .dataframe tbody tr th:only-of-type {\n",
       "        vertical-align: middle;\n",
       "    }\n",
       "\n",
       "    .dataframe tbody tr th {\n",
       "        vertical-align: top;\n",
       "    }\n",
       "\n",
       "    .dataframe thead th {\n",
       "        text-align: right;\n",
       "    }\n",
       "</style>\n",
       "<table border=\"1\" class=\"dataframe\">\n",
       "  <thead>\n",
       "    <tr style=\"text-align: right;\">\n",
       "      <th></th>\n",
       "      <th>thc</th>\n",
       "      <th>cbd</th>\n",
       "      <th>cbg</th>\n",
       "      <th>thcv</th>\n",
       "      <th>cbc</th>\n",
       "    </tr>\n",
       "  </thead>\n",
       "  <tbody>\n",
       "    <tr>\n",
       "      <th>count</th>\n",
       "      <td>4248.000000</td>\n",
       "      <td>3666.000000</td>\n",
       "      <td>3638.000000</td>\n",
       "      <td>3337.000000</td>\n",
       "      <td>3078.000000</td>\n",
       "    </tr>\n",
       "    <tr>\n",
       "      <th>mean</th>\n",
       "      <td>19.993870</td>\n",
       "      <td>0.255619</td>\n",
       "      <td>0.743815</td>\n",
       "      <td>0.015283</td>\n",
       "      <td>0.005523</td>\n",
       "    </tr>\n",
       "    <tr>\n",
       "      <th>std</th>\n",
       "      <td>4.662397</td>\n",
       "      <td>1.667764</td>\n",
       "      <td>0.613575</td>\n",
       "      <td>0.271675</td>\n",
       "      <td>0.086280</td>\n",
       "    </tr>\n",
       "    <tr>\n",
       "      <th>min</th>\n",
       "      <td>0.000000</td>\n",
       "      <td>0.000000</td>\n",
       "      <td>0.000000</td>\n",
       "      <td>0.000000</td>\n",
       "      <td>0.000000</td>\n",
       "    </tr>\n",
       "    <tr>\n",
       "      <th>25%</th>\n",
       "      <td>17.000000</td>\n",
       "      <td>0.000000</td>\n",
       "      <td>0.000000</td>\n",
       "      <td>0.000000</td>\n",
       "      <td>0.000000</td>\n",
       "    </tr>\n",
       "    <tr>\n",
       "      <th>50%</th>\n",
       "      <td>20.000000</td>\n",
       "      <td>0.000000</td>\n",
       "      <td>1.000000</td>\n",
       "      <td>0.000000</td>\n",
       "      <td>0.000000</td>\n",
       "    </tr>\n",
       "    <tr>\n",
       "      <th>75%</th>\n",
       "      <td>23.000000</td>\n",
       "      <td>0.000000</td>\n",
       "      <td>1.000000</td>\n",
       "      <td>0.000000</td>\n",
       "      <td>0.000000</td>\n",
       "    </tr>\n",
       "    <tr>\n",
       "      <th>max</th>\n",
       "      <td>40.000000</td>\n",
       "      <td>18.000000</td>\n",
       "      <td>10.000000</td>\n",
       "      <td>13.000000</td>\n",
       "      <td>3.000000</td>\n",
       "    </tr>\n",
       "  </tbody>\n",
       "</table>\n",
       "</div>"
      ],
      "text/plain": [
       "               thc          cbd          cbg         thcv          cbc\n",
       "count  4248.000000  3666.000000  3638.000000  3337.000000  3078.000000\n",
       "mean     19.993870     0.255619     0.743815     0.015283     0.005523\n",
       "std       4.662397     1.667764     0.613575     0.271675     0.086280\n",
       "min       0.000000     0.000000     0.000000     0.000000     0.000000\n",
       "25%      17.000000     0.000000     0.000000     0.000000     0.000000\n",
       "50%      20.000000     0.000000     1.000000     0.000000     0.000000\n",
       "75%      23.000000     0.000000     1.000000     0.000000     0.000000\n",
       "max      40.000000    18.000000    10.000000    13.000000     3.000000"
      ]
     },
     "execution_count": 29,
     "metadata": {},
     "output_type": "execute_result"
    }
   ],
   "source": [
    "# Verteilung und Ranges\n",
    "cb_df.describe()"
   ]
  },
  {
   "cell_type": "code",
   "execution_count": 27,
   "metadata": {},
   "outputs": [
    {
     "name": "stdout",
     "output_type": "stream",
     "text": [
      "Nicht-Null-Werte:\n",
      " name    8492\n",
      "thc     4248\n",
      "cbd     3666\n",
      "cbg     3638\n",
      "thcv    3337\n",
      "cbc     3078\n",
      "dtype: int64 \n",
      "\n",
      "Nullwerte\n",
      " name       0\n",
      "thc     4244\n",
      "cbd     4826\n",
      "cbg     4854\n",
      "thcv    5155\n",
      "cbc     5414\n",
      "dtype: int64\n"
     ]
    }
   ],
   "source": [
    "# Nullwerte & Nicht-Null-Werte pro Spalte\n",
    "print(\"Nicht-Null-Werte:\\n\", cb_df.count(), \"\\n\\nNullwerte\\n\", cb_df.isnull().sum())"
   ]
  },
  {
   "cell_type": "code",
   "execution_count": 44,
   "metadata": {},
   "outputs": [
    {
     "data": {
      "text/plain": [
       "name    8486\n",
       "thc       65\n",
       "cbd       21\n",
       "cbg        8\n",
       "thcv       5\n",
       "cbc        3\n",
       "dtype: int64"
      ]
     },
     "execution_count": 44,
     "metadata": {},
     "output_type": "execute_result"
    }
   ],
   "source": [
    "# Duplikate und eindeutige Werte\n",
    "cb_df.duplicated().sum()\n",
    "cb_df.nunique()"
   ]
  },
  {
   "cell_type": "code",
   "execution_count": 32,
   "metadata": {},
   "outputs": [
    {
     "data": {
      "text/html": [
       "<div>\n",
       "<style scoped>\n",
       "    .dataframe tbody tr th:only-of-type {\n",
       "        vertical-align: middle;\n",
       "    }\n",
       "\n",
       "    .dataframe tbody tr th {\n",
       "        vertical-align: top;\n",
       "    }\n",
       "\n",
       "    .dataframe thead th {\n",
       "        text-align: right;\n",
       "    }\n",
       "</style>\n",
       "<table border=\"1\" class=\"dataframe\">\n",
       "  <thead>\n",
       "    <tr style=\"text-align: right;\">\n",
       "      <th></th>\n",
       "      <th>thc</th>\n",
       "      <th>cbd</th>\n",
       "      <th>cbg</th>\n",
       "      <th>thcv</th>\n",
       "      <th>cbc</th>\n",
       "    </tr>\n",
       "  </thead>\n",
       "  <tbody>\n",
       "    <tr>\n",
       "      <th>thc</th>\n",
       "      <td>1.000000</td>\n",
       "      <td>-0.484756</td>\n",
       "      <td>0.280755</td>\n",
       "      <td>-0.065289</td>\n",
       "      <td>-0.050273</td>\n",
       "    </tr>\n",
       "    <tr>\n",
       "      <th>cbd</th>\n",
       "      <td>-0.484756</td>\n",
       "      <td>1.000000</td>\n",
       "      <td>-0.086968</td>\n",
       "      <td>-0.010740</td>\n",
       "      <td>0.069825</td>\n",
       "    </tr>\n",
       "    <tr>\n",
       "      <th>cbg</th>\n",
       "      <td>0.280755</td>\n",
       "      <td>-0.086968</td>\n",
       "      <td>1.000000</td>\n",
       "      <td>-0.002413</td>\n",
       "      <td>-0.026231</td>\n",
       "    </tr>\n",
       "    <tr>\n",
       "      <th>thcv</th>\n",
       "      <td>-0.065289</td>\n",
       "      <td>-0.010740</td>\n",
       "      <td>-0.002413</td>\n",
       "      <td>1.000000</td>\n",
       "      <td>-0.005090</td>\n",
       "    </tr>\n",
       "    <tr>\n",
       "      <th>cbc</th>\n",
       "      <td>-0.050273</td>\n",
       "      <td>0.069825</td>\n",
       "      <td>-0.026231</td>\n",
       "      <td>-0.005090</td>\n",
       "      <td>1.000000</td>\n",
       "    </tr>\n",
       "  </tbody>\n",
       "</table>\n",
       "</div>"
      ],
      "text/plain": [
       "           thc       cbd       cbg      thcv       cbc\n",
       "thc   1.000000 -0.484756  0.280755 -0.065289 -0.050273\n",
       "cbd  -0.484756  1.000000 -0.086968 -0.010740  0.069825\n",
       "cbg   0.280755 -0.086968  1.000000 -0.002413 -0.026231\n",
       "thcv -0.065289 -0.010740 -0.002413  1.000000 -0.005090\n",
       "cbc  -0.050273  0.069825 -0.026231 -0.005090  1.000000"
      ]
     },
     "execution_count": 32,
     "metadata": {},
     "output_type": "execute_result"
    }
   ],
   "source": [
    "# Korrelation aller numerischer Werte\n",
    "cb_df.corr(numeric_only=True)"
   ]
  },
  {
   "cell_type": "code",
   "execution_count": 52,
   "metadata": {},
   "outputs": [
    {
     "name": "stdout",
     "output_type": "stream",
     "text": [
      "MAX:  \n",
      " name    504333\n",
      "thc     516800\n",
      "cbd     503977\n",
      "cbg     505400\n",
      "thcv    516736\n",
      "cbc     506432\n",
      "dtype: int64 \n",
      "MIN:  \n",
      " name    516532\n",
      "thc      82033\n",
      "cbd          1\n",
      "cbg          1\n",
      "thcv         1\n",
      "cbc          1\n",
      "dtype: int64\n"
     ]
    }
   ],
   "source": [
    "# Extremwerte/Ausreißer identifizieren\n",
    "cb_df[cb_df[\"thc\"] > cb_df[\"thc\"].quantile(0.99)]\n",
    "print(\"MAX:  \\n\", cb_df.idxmax(), \"\\nMIN:  \\n\", cb_df.idxmin())"
   ]
  },
  {
   "cell_type": "code",
   "execution_count": null,
   "metadata": {},
   "outputs": [
    {
     "data": {
      "image/png": "[encoded data removed]",
      "text/plain": [
       "<Figure size 640x480 with 1 Axes>"
      ]
     },
     "metadata": {},
     "output_type": "display_data"
    }
   ],
   "source": [
    "# Mögliche Korrelation pruefen\n",
    "cb_df[[\"thc\", \"cbd\"]].plot.scatter(x=\"thc\", y=\"cbd\")\n",
    "plt.show()"
   ]
  },
  {
   "cell_type": "markdown",
   "metadata": {},
   "source": [
    "---\n",
    "## 4. Visualisierung der Cannabinoide\n",
    "\n",
    "- Histogramme (z.B. Verteilung von THC, CBD)\n",
    "- Scatterplots (Vergleich THC vs. CBD, etc.)\n",
    "- Pairplot/Correlation-Heatmap\n",
    "---\n"
   ]
  },
  {
   "cell_type": "code",
   "execution_count": 67,
   "metadata": {},
   "outputs": [
    {
     "data": {
      "image/png": "[encoded data removed]",
      "text/plain": [
       "<Figure size 1200x400 with 1 Axes>"
      ]
     },
     "metadata": {},
     "output_type": "display_data"
    }
   ],
   "source": [
    "cb_df.boxplot(figsize=(12, 4))\n",
    "plt.show()"
   ]
  },
  {
   "cell_type": "code",
   "execution_count": 68,
   "metadata": {},
   "outputs": [
    {
     "data": {
      "image/png": "[encoded data removed]",
      "text/plain": [
       "<Figure size 640x480 with 2 Axes>"
      ]
     },
     "metadata": {},
     "output_type": "display_data"
    }
   ],
   "source": [
    "sns.heatmap(cb_df.corr(numeric_only=True), annot=True, cmap=\"coolwarm\", vmin=-1.0)\n",
    "plt.title(\"Korrelation Cannabinoide\")\n",
    "plt.show()"
   ]
  },
  {
   "cell_type": "markdown",
   "metadata": {},
   "source": [
    "---\n",
    "\n",
    "## 5. Weitere Analysen & Ideen\n",
    "\n",
    "*Platz für Insights, Ausreißer, Cluster, spannende Strains…*  \n",
    "- Welche Strains sind besonders reich an seltenen Cannabinoiden?\n",
    "- Gibt es Strains mit ungewöhnlichen Profilen?\n",
    "- Wie unterscheiden sich Medianwerte nach Kategorie (wenn verfügbar)?\n",
    "\n",
    "---\n"
   ]
  },
  {
   "cell_type": "markdown",
   "metadata": {},
   "source": [
    "---\n",
    "## 6. Fazit & To Dos\n",
    "\n",
    "- Zusammenfassung der wichtigsten Erkenntnisse\n",
    "- Offene Fragen & nächste Schritte\n",
    "- Was könnte in weiteren Notebooks (z.B. Terpene, Effekte) angeschaut werden?\n",
    "---\n"
   ]
  }
 ],
 "metadata": {
  "kernelspec": {
   "display_name": "Python 3",
   "language": "python",
   "name": "python3"
  },
  "language_info": {
   "codemirror_mode": {
    "name": "ipython",
    "version": 3
   },
   "file_extension": ".py",
   "mimetype": "text/x-python",
   "name": "python",
   "nbconvert_exporter": "python",
   "pygments_lexer": "ipython3",
   "version": "3.13.1"
  }
 },
 "nbformat": 4,
 "nbformat_minor": 2
}
