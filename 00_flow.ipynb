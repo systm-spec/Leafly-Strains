{
 "cells": [
  {
   "cell_type": "code",
   "execution_count": null,
   "metadata": {},
   "outputs": [],
   "source": [
    "# imports\n",
    "import pandas as pd\n",
    "\n",
    "# fixes DF fuer das Skript\n",
    "strains = pd.read_csv(\"./csv/strains.csv\")"
   ]
  },
  {
   "cell_type": "markdown",
   "metadata": {},
   "source": [
    "### 1. Spaltenüberblick gewinnen\n",
    "\n",
    "-> Problem: print(strains.columns) schneidet ab.\n"
   ]
  },
  {
   "cell_type": "code",
   "execution_count": null,
   "metadata": {},
   "outputs": [],
   "source": [
    "# am simpelsten\n",
    "list(strains.columns)"
   ]
  },
  {
   "cell_type": "code",
   "execution_count": null,
   "metadata": {},
   "outputs": [],
   "source": [
    "# In Datei speichern:\n",
    "strains.columns.to_series().to_csv(\"output/columns.txt\", index=True)"
   ]
  },
  {
   "cell_type": "code",
   "execution_count": null,
   "metadata": {},
   "outputs": [],
   "source": [
    "# Loopen\n",
    "for i, col in enumerate(strains.columns):\n",
    "    print(i, col)"
   ]
  },
  {
   "cell_type": "code",
   "execution_count": 2,
   "metadata": {},
   "outputs": [
    {
     "data": {
      "text/plain": [
       "Index(['averageRating', 'cannabinoid_cbc_percentile50',\n",
       "       'cannabinoid_cbd_percentile50', 'cannabinoid_cbg_percentile50',\n",
       "       'cannabinoid_thc_percentile50', 'cannabinoid_thcv_percentile50',\n",
       "       'category', 'children_slugs', 'conditionReviewCount',\n",
       "       'condition_addAdhd_score',\n",
       "       ...\n",
       "       'terp_limonene_score', 'terp_linalool_score', 'terp_myrcene_score',\n",
       "       'terp_ocimene_score', 'terp_pinene_score', 'terp_terpinolene_score',\n",
       "       'topEffect', 'totalFollowers', 'traitsCountTotal',\n",
       "       'traitsSourceCountTotal'],\n",
       "      dtype='object', length=191)"
      ]
     },
     "execution_count": 2,
     "metadata": {},
     "output_type": "execute_result"
    }
   ],
   "source": [
    "strains.columns"
   ]
  }
 ],
 "metadata": {
  "kernelspec": {
   "display_name": "Python 3",
   "language": "python",
   "name": "python3"
  },
  "language_info": {
   "codemirror_mode": {
    "name": "ipython",
    "version": 3
   },
   "file_extension": ".py",
   "mimetype": "text/x-python",
   "name": "python",
   "nbconvert_exporter": "python",
   "pygments_lexer": "ipython3",
   "version": "3.13.1"
  }
 },
 "nbformat": 4,
 "nbformat_minor": 2
}
